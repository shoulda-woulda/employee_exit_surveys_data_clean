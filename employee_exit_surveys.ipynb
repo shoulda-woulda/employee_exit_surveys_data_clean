{
 "cells": [
  {
   "cell_type": "markdown",
   "metadata": {},
   "source": [
    "#### Data Cleaning and Analysis: Employee Exit Surveys"
   ]
  },
  {
   "cell_type": "markdown",
   "metadata": {},
   "source": [
    "We have two datasets from two different educational institutions in Australia, DETE and TAFE.\n",
    "\n",
    "For this project, we will demonstrate data cleaning skills by preparing data from two CSV files for analysis. We want to know the following:\n",
    "\n",
    "- Between the two institutions why are people leaving? How does this change depending on the length of service? And depending on age?\n",
    "\n",
    "- Are employees who only worked for the institutes for a short period of time resigning due to some kind of dissatisfaction? What about employees who have been there longer?"
   ]
  },
  {
   "cell_type": "code",
   "execution_count": 1,
   "metadata": {},
   "outputs": [],
   "source": [
    "import pandas as pd\n",
    "import re\n",
    "import numpy as np\n",
    "\n",
    "import seaborn as sns\n",
    "sns.set_theme()\n",
    "import matplotlib.pyplot as plt"
   ]
  },
  {
   "cell_type": "code",
   "execution_count": 2,
   "metadata": {},
   "outputs": [],
   "source": [
    "dete_survey = pd.read_csv('data/dete_survey.csv')\n",
    "tafe_survey = pd.read_csv('data/tafe_survey.csv')"
   ]
  },
  {
   "cell_type": "markdown",
   "metadata": {},
   "source": [
    "***\n",
    "__Initial data exploration steps.__\n",
    "\n",
    "__Let's look at the DETE dataset first.__\n",
    "\n",
    "We will explore our dataset, look at values of columns and remove/ fill in NULL values depending on our analysis."
   ]
  },
  {
   "cell_type": "code",
   "execution_count": 3,
   "metadata": {},
   "outputs": [
    {
     "name": "stdout",
     "output_type": "stream",
     "text": [
      "<class 'pandas.core.frame.DataFrame'>\n",
      "RangeIndex: 822 entries, 0 to 821\n",
      "Data columns (total 56 columns):\n",
      " #   Column                               Non-Null Count  Dtype \n",
      "---  ------                               --------------  ----- \n",
      " 0   ID                                   822 non-null    int64 \n",
      " 1   SeparationType                       822 non-null    object\n",
      " 2   Cease Date                           822 non-null    object\n",
      " 3   DETE Start Date                      822 non-null    object\n",
      " 4   Role Start Date                      822 non-null    object\n",
      " 5   Position                             817 non-null    object\n",
      " 6   Classification                       455 non-null    object\n",
      " 7   Region                               822 non-null    object\n",
      " 8   Business Unit                        126 non-null    object\n",
      " 9   Employment Status                    817 non-null    object\n",
      " 10  Career move to public sector         822 non-null    bool  \n",
      " 11  Career move to private sector        822 non-null    bool  \n",
      " 12  Interpersonal conflicts              822 non-null    bool  \n",
      " 13  Job dissatisfaction                  822 non-null    bool  \n",
      " 14  Dissatisfaction with the department  822 non-null    bool  \n",
      " 15  Physical work environment            822 non-null    bool  \n",
      " 16  Lack of recognition                  822 non-null    bool  \n",
      " 17  Lack of job security                 822 non-null    bool  \n",
      " 18  Work location                        822 non-null    bool  \n",
      " 19  Employment conditions                822 non-null    bool  \n",
      " 20  Maternity/family                     822 non-null    bool  \n",
      " 21  Relocation                           822 non-null    bool  \n",
      " 22  Study/Travel                         822 non-null    bool  \n",
      " 23  Ill Health                           822 non-null    bool  \n",
      " 24  Traumatic incident                   822 non-null    bool  \n",
      " 25  Work life balance                    822 non-null    bool  \n",
      " 26  Workload                             822 non-null    bool  \n",
      " 27  None of the above                    822 non-null    bool  \n",
      " 28  Professional Development             808 non-null    object\n",
      " 29  Opportunities for promotion          735 non-null    object\n",
      " 30  Staff morale                         816 non-null    object\n",
      " 31  Workplace issue                      788 non-null    object\n",
      " 32  Physical environment                 817 non-null    object\n",
      " 33  Worklife balance                     815 non-null    object\n",
      " 34  Stress and pressure support          810 non-null    object\n",
      " 35  Performance of supervisor            813 non-null    object\n",
      " 36  Peer support                         812 non-null    object\n",
      " 37  Initiative                           813 non-null    object\n",
      " 38  Skills                               811 non-null    object\n",
      " 39  Coach                                767 non-null    object\n",
      " 40  Career Aspirations                   746 non-null    object\n",
      " 41  Feedback                             792 non-null    object\n",
      " 42  Further PD                           768 non-null    object\n",
      " 43  Communication                        814 non-null    object\n",
      " 44  My say                               812 non-null    object\n",
      " 45  Information                          816 non-null    object\n",
      " 46  Kept informed                        813 non-null    object\n",
      " 47  Wellness programs                    766 non-null    object\n",
      " 48  Health & Safety                      793 non-null    object\n",
      " 49  Gender                               798 non-null    object\n",
      " 50  Age                                  811 non-null    object\n",
      " 51  Aboriginal                           16 non-null     object\n",
      " 52  Torres Strait                        3 non-null      object\n",
      " 53  South Sea                            7 non-null      object\n",
      " 54  Disability                           23 non-null     object\n",
      " 55  NESB                                 32 non-null     object\n",
      "dtypes: bool(18), int64(1), object(37)\n",
      "memory usage: 258.6+ KB\n",
      "None\n"
     ]
    }
   ],
   "source": [
    "print(dete_survey.info())"
   ]
  },
  {
   "cell_type": "code",
   "execution_count": 4,
   "metadata": {},
   "outputs": [
    {
     "data": {
      "text/plain": [
       "(822, 56)"
      ]
     },
     "execution_count": 4,
     "metadata": {},
     "output_type": "execute_result"
    }
   ],
   "source": [
    "shape_dete_survey = dete_survey.shape\n",
    "shape_dete_survey"
   ]
  },
  {
   "cell_type": "markdown",
   "metadata": {},
   "source": [
    "So it looks like for the analysis columns:\n",
    "\n",
    "_\"ID\", \"SeperationType\", \"Cease Date\", \"DETE Start Date\", \"Age\", \"Job dissatisfaction\"_\n",
    "\n",
    "are of interest to us.\n",
    "\n",
    "Let's have a look for NULLs and inaccurate/ incomplete values."
   ]
  },
  {
   "cell_type": "code",
   "execution_count": 5,
   "metadata": {},
   "outputs": [],
   "source": [
    "dete_survey_trimmed = dete_survey.loc[:,['ID','SeparationType','Cease Date','DETE Start Date','Age', 'Job dissatisfaction']]"
   ]
  },
  {
   "cell_type": "code",
   "execution_count": 6,
   "metadata": {},
   "outputs": [
    {
     "name": "stdout",
     "output_type": "stream",
     "text": [
      "ID                      0\n",
      "SeparationType          0\n",
      "Cease Date              0\n",
      "DETE Start Date         0\n",
      "Age                    11\n",
      "Job dissatisfaction     0\n",
      "dtype: int64\n"
     ]
    }
   ],
   "source": [
    "print(dete_survey_trimmed.isnull().sum())"
   ]
  },
  {
   "cell_type": "code",
   "execution_count": 7,
   "metadata": {},
   "outputs": [
    {
     "data": {
      "image/png": "[encoded data removed]",
      "text/plain": [
       "<Figure size 640x480 with 1 Axes>"
      ]
     },
     "metadata": {},
     "output_type": "display_data"
    }
   ],
   "source": [
    "dete_survey_trimmed_record_index = dete_survey_trimmed.set_index('ID')\n",
    "sns.heatmap(dete_survey_trimmed_record_index.isnull(), cbar=False)\n",
    "plt.show()"
   ]
  },
  {
   "cell_type": "markdown",
   "metadata": {},
   "source": [
    "We have a relatively good dataset here from the respect of NULL values. You can see from the heatmap above that most of data is non-NULL (black) with a small slither of NULLs (grey) in the \"Age\" column.\n",
    "\n",
    "Let's look at the NULLs now:"
   ]
  },
  {
   "cell_type": "code",
   "execution_count": 8,
   "metadata": {},
   "outputs": [],
   "source": [
    "missing = dete_survey_trimmed['Age'].isnull()\n",
    "dete_survey_trimmed_missing_age = dete_survey_trimmed[missing]"
   ]
  },
  {
   "cell_type": "code",
   "execution_count": 9,
   "metadata": {},
   "outputs": [
    {
     "data": {
      "text/html": [
       "<div>\n",
       "<style scoped>\n",
       "    .dataframe tbody tr th:only-of-type {\n",
       "        vertical-align: middle;\n",
       "    }\n",
       "\n",
       "    .dataframe tbody tr th {\n",
       "        vertical-align: top;\n",
       "    }\n",
       "\n",
       "    .dataframe thead th {\n",
       "        text-align: right;\n",
       "    }\n",
       "</style>\n",
       "<table border=\"1\" class=\"dataframe\">\n",
       "  <thead>\n",
       "    <tr style=\"text-align: right;\">\n",
       "      <th></th>\n",
       "      <th>ID</th>\n",
       "      <th>SeparationType</th>\n",
       "      <th>Cease Date</th>\n",
       "      <th>DETE Start Date</th>\n",
       "      <th>Age</th>\n",
       "      <th>Job dissatisfaction</th>\n",
       "    </tr>\n",
       "  </thead>\n",
       "  <tbody>\n",
       "    <tr>\n",
       "      <th>123</th>\n",
       "      <td>124</td>\n",
       "      <td>Ill Health Retirement</td>\n",
       "      <td>2012</td>\n",
       "      <td>Not Stated</td>\n",
       "      <td>NaN</td>\n",
       "      <td>False</td>\n",
       "    </tr>\n",
       "    <tr>\n",
       "      <th>172</th>\n",
       "      <td>173</td>\n",
       "      <td>Other</td>\n",
       "      <td>2012</td>\n",
       "      <td>1975</td>\n",
       "      <td>NaN</td>\n",
       "      <td>False</td>\n",
       "    </tr>\n",
       "    <tr>\n",
       "      <th>214</th>\n",
       "      <td>215</td>\n",
       "      <td>Resignation-Other reasons</td>\n",
       "      <td>2012</td>\n",
       "      <td>1999</td>\n",
       "      <td>NaN</td>\n",
       "      <td>False</td>\n",
       "    </tr>\n",
       "    <tr>\n",
       "      <th>285</th>\n",
       "      <td>286</td>\n",
       "      <td>Resignation-Move overseas/interstate</td>\n",
       "      <td>2012</td>\n",
       "      <td>2012</td>\n",
       "      <td>NaN</td>\n",
       "      <td>False</td>\n",
       "    </tr>\n",
       "    <tr>\n",
       "      <th>329</th>\n",
       "      <td>330</td>\n",
       "      <td>Voluntary Early Retirement (VER)</td>\n",
       "      <td>2013</td>\n",
       "      <td>1971</td>\n",
       "      <td>NaN</td>\n",
       "      <td>False</td>\n",
       "    </tr>\n",
       "    <tr>\n",
       "      <th>336</th>\n",
       "      <td>337</td>\n",
       "      <td>Other</td>\n",
       "      <td>2012</td>\n",
       "      <td>Not Stated</td>\n",
       "      <td>NaN</td>\n",
       "      <td>False</td>\n",
       "    </tr>\n",
       "    <tr>\n",
       "      <th>405</th>\n",
       "      <td>406</td>\n",
       "      <td>Resignation-Other reasons</td>\n",
       "      <td>2012</td>\n",
       "      <td>Not Stated</td>\n",
       "      <td>NaN</td>\n",
       "      <td>False</td>\n",
       "    </tr>\n",
       "    <tr>\n",
       "      <th>665</th>\n",
       "      <td>667</td>\n",
       "      <td>Age Retirement</td>\n",
       "      <td>07/2014</td>\n",
       "      <td>1991</td>\n",
       "      <td>NaN</td>\n",
       "      <td>True</td>\n",
       "    </tr>\n",
       "    <tr>\n",
       "      <th>708</th>\n",
       "      <td>710</td>\n",
       "      <td>Ill Health Retirement</td>\n",
       "      <td>Not Stated</td>\n",
       "      <td>Not Stated</td>\n",
       "      <td>NaN</td>\n",
       "      <td>False</td>\n",
       "    </tr>\n",
       "    <tr>\n",
       "      <th>802</th>\n",
       "      <td>804</td>\n",
       "      <td>Resignation-Move overseas/interstate</td>\n",
       "      <td>12/2013</td>\n",
       "      <td>Not Stated</td>\n",
       "      <td>NaN</td>\n",
       "      <td>False</td>\n",
       "    </tr>\n",
       "    <tr>\n",
       "      <th>821</th>\n",
       "      <td>823</td>\n",
       "      <td>Resignation-Move overseas/interstate</td>\n",
       "      <td>12/2013</td>\n",
       "      <td>Not Stated</td>\n",
       "      <td>NaN</td>\n",
       "      <td>False</td>\n",
       "    </tr>\n",
       "  </tbody>\n",
       "</table>\n",
       "</div>"
      ],
      "text/plain": [
       "      ID                        SeparationType  Cease Date DETE Start Date  \\\n",
       "123  124                 Ill Health Retirement        2012      Not Stated   \n",
       "172  173                                 Other        2012            1975   \n",
       "214  215             Resignation-Other reasons        2012            1999   \n",
       "285  286  Resignation-Move overseas/interstate        2012            2012   \n",
       "329  330      Voluntary Early Retirement (VER)        2013            1971   \n",
       "336  337                                 Other        2012      Not Stated   \n",
       "405  406             Resignation-Other reasons        2012      Not Stated   \n",
       "665  667                        Age Retirement     07/2014            1991   \n",
       "708  710                 Ill Health Retirement  Not Stated      Not Stated   \n",
       "802  804  Resignation-Move overseas/interstate     12/2013      Not Stated   \n",
       "821  823  Resignation-Move overseas/interstate     12/2013      Not Stated   \n",
       "\n",
       "     Age  Job dissatisfaction  \n",
       "123  NaN                False  \n",
       "172  NaN                False  \n",
       "214  NaN                False  \n",
       "285  NaN                False  \n",
       "329  NaN                False  \n",
       "336  NaN                False  \n",
       "405  NaN                False  \n",
       "665  NaN                 True  \n",
       "708  NaN                False  \n",
       "802  NaN                False  \n",
       "821  NaN                False  "
      ]
     },
     "execution_count": 9,
     "metadata": {},
     "output_type": "execute_result"
    }
   ],
   "source": [
    "dete_survey_trimmed_missing_age"
   ]
  },
  {
   "cell_type": "markdown",
   "metadata": {},
   "source": [
    "We will fill the records with NULL in the \"Age\" column with \"Not Stated\" as there is usable information in the other columns. "
   ]
  },
  {
   "cell_type": "code",
   "execution_count": 10,
   "metadata": {},
   "outputs": [],
   "source": [
    "dete_survey_trimmed= dete_survey_trimmed.fillna(\"Not Stated\")"
   ]
  },
  {
   "cell_type": "markdown",
   "metadata": {},
   "source": [
    "Exploring the values in each column of interest:"
   ]
  },
  {
   "cell_type": "code",
   "execution_count": 11,
   "metadata": {},
   "outputs": [
    {
     "name": "stdout",
     "output_type": "stream",
     "text": [
      "Age\n",
      "61 or older      222\n",
      "56-60            174\n",
      "51-55            103\n",
      "46-50             63\n",
      "41-45             61\n",
      "26-30             57\n",
      "36-40             51\n",
      "21-25             40\n",
      "31-35             39\n",
      "Not Stated        11\n",
      "20 or younger      1\n",
      "Name: count, dtype: int64\n"
     ]
    }
   ],
   "source": [
    "print(dete_survey_trimmed['Age'].value_counts())"
   ]
  },
  {
   "cell_type": "code",
   "execution_count": 12,
   "metadata": {},
   "outputs": [
    {
     "name": "stdout",
     "output_type": "stream",
     "text": [
      "SeparationType\n",
      "Age Retirement                          285\n",
      "Resignation-Other reasons               150\n",
      "Resignation-Other employer               91\n",
      "Resignation-Move overseas/interstate     70\n",
      "Voluntary Early Retirement (VER)         67\n",
      "Ill Health Retirement                    61\n",
      "Other                                    49\n",
      "Contract Expired                         34\n",
      "Termination                              15\n",
      "Name: count, dtype: int64\n"
     ]
    }
   ],
   "source": [
    "print(dete_survey_trimmed['SeparationType'].value_counts())"
   ]
  },
  {
   "cell_type": "code",
   "execution_count": 13,
   "metadata": {
    "scrolled": true
   },
   "outputs": [
    {
     "name": "stdout",
     "output_type": "stream",
     "text": [
      "DETE Start Date\n",
      "Not Stated    73\n",
      "2011          40\n",
      "2007          34\n",
      "2008          31\n",
      "2010          27\n",
      "2012          27\n",
      "2009          24\n",
      "2006          23\n",
      "1970          21\n",
      "2013          21\n",
      "1975          21\n",
      "2005          20\n",
      "1990          20\n",
      "1996          19\n",
      "1999          19\n",
      "2000          18\n",
      "1992          18\n",
      "2004          18\n",
      "1991          18\n",
      "1989          17\n",
      "1976          15\n",
      "2002          15\n",
      "1978          15\n",
      "2003          15\n",
      "1988          15\n",
      "1974          14\n",
      "1980          14\n",
      "1995          14\n",
      "1998          14\n",
      "1997          14\n",
      "1979          14\n",
      "1993          13\n",
      "1986          12\n",
      "1972          12\n",
      "1977          11\n",
      "1971          10\n",
      "2001          10\n",
      "1984          10\n",
      "1969          10\n",
      "1994          10\n",
      "1981           9\n",
      "1983           9\n",
      "1985           8\n",
      "1973           8\n",
      "1987           7\n",
      "1963           4\n",
      "1982           4\n",
      "1968           3\n",
      "1967           2\n",
      "1966           1\n",
      "1965           1\n",
      "Name: count, dtype: int64\n"
     ]
    }
   ],
   "source": [
    "print(dete_survey_trimmed['DETE Start Date'].value_counts())"
   ]
  },
  {
   "cell_type": "code",
   "execution_count": 14,
   "metadata": {},
   "outputs": [
    {
     "name": "stdout",
     "output_type": "stream",
     "text": [
      "Cease Date\n",
      "2012          344\n",
      "2013          200\n",
      "01/2014        43\n",
      "12/2013        40\n",
      "Not Stated     34\n",
      "09/2013        34\n",
      "06/2013        27\n",
      "07/2013        22\n",
      "10/2013        20\n",
      "11/2013        16\n",
      "08/2013        12\n",
      "05/2013         7\n",
      "05/2012         6\n",
      "04/2014         2\n",
      "07/2014         2\n",
      "08/2012         2\n",
      "04/2013         2\n",
      "02/2014         2\n",
      "11/2012         1\n",
      "09/2010         1\n",
      "2010            1\n",
      "2014            1\n",
      "07/2012         1\n",
      "09/2014         1\n",
      "07/2006         1\n",
      "Name: count, dtype: int64\n"
     ]
    }
   ],
   "source": [
    "print(dete_survey_trimmed['Cease Date'].value_counts())"
   ]
  },
  {
   "cell_type": "code",
   "execution_count": 15,
   "metadata": {},
   "outputs": [
    {
     "name": "stdout",
     "output_type": "stream",
     "text": [
      "Job dissatisfaction\n",
      "False    733\n",
      "True      89\n",
      "Name: count, dtype: int64\n"
     ]
    }
   ],
   "source": [
    "print(dete_survey_trimmed['Job dissatisfaction'].value_counts())"
   ]
  },
  {
   "cell_type": "markdown",
   "metadata": {},
   "source": [
    "Conclusions:\n",
    "\n",
    "- DEFE data is quite complete. No NULL values but some as \"Not Stated\". Something to consider.\n",
    "\n",
    "- We need to create a length of employment column.\n",
    "\n",
    "- Our column values and headers will need to be made consistent over both data sets.\n",
    "\n",
    "\n",
    "\n"
   ]
  },
  {
   "cell_type": "markdown",
   "metadata": {},
   "source": [
    "__Now let's move our attention to the TAFE dataset.__\n",
    "\n",
    "Following the same steps as above we will explore our dataset, look at values of columns and most importantly maintain consistency as our process involves joining these datasets together to perform a group analysis."
   ]
  },
  {
   "cell_type": "code",
   "execution_count": 16,
   "metadata": {},
   "outputs": [
    {
     "name": "stdout",
     "output_type": "stream",
     "text": [
      "<class 'pandas.core.frame.DataFrame'>\n",
      "RangeIndex: 702 entries, 0 to 701\n",
      "Data columns (total 72 columns):\n",
      " #   Column                                                                                                                                                         Non-Null Count  Dtype  \n",
      "---  ------                                                                                                                                                         --------------  -----  \n",
      " 0   Record ID                                                                                                                                                      702 non-null    float64\n",
      " 1   Institute                                                                                                                                                      702 non-null    object \n",
      " 2   WorkArea                                                                                                                                                       702 non-null    object \n",
      " 3   CESSATION YEAR                                                                                                                                                 695 non-null    float64\n",
      " 4   Reason for ceasing employment                                                                                                                                  701 non-null    object \n",
      " 5   Contributing Factors. Career Move - Public Sector                                                                                                              437 non-null    object \n",
      " 6   Contributing Factors. Career Move - Private Sector                                                                                                             437 non-null    object \n",
      " 7   Contributing Factors. Career Move - Self-employment                                                                                                            437 non-null    object \n",
      " 8   Contributing Factors. Ill Health                                                                                                                               437 non-null    object \n",
      " 9   Contributing Factors. Maternity/Family                                                                                                                         437 non-null    object \n",
      " 10  Contributing Factors. Dissatisfaction                                                                                                                          437 non-null    object \n",
      " 11  Contributing Factors. Job Dissatisfaction                                                                                                                      437 non-null    object \n",
      " 12  Contributing Factors. Interpersonal Conflict                                                                                                                   437 non-null    object \n",
      " 13  Contributing Factors. Study                                                                                                                                    437 non-null    object \n",
      " 14  Contributing Factors. Travel                                                                                                                                   437 non-null    object \n",
      " 15  Contributing Factors. Other                                                                                                                                    437 non-null    object \n",
      " 16  Contributing Factors. NONE                                                                                                                                     437 non-null    object \n",
      " 17  Main Factor. Which of these was the main factor for leaving?                                                                                                   113 non-null    object \n",
      " 18  InstituteViews. Topic:1. I feel the senior leadership had a clear vision and direction                                                                         608 non-null    object \n",
      " 19  InstituteViews. Topic:2. I was given access to skills training to help me do my job better                                                                     613 non-null    object \n",
      " 20  InstituteViews. Topic:3. I was given adequate opportunities for personal development                                                                           610 non-null    object \n",
      " 21  InstituteViews. Topic:4. I was given adequate opportunities for promotion within %Institute]Q25LBL%                                                            608 non-null    object \n",
      " 22  InstituteViews. Topic:5. I felt the salary for the job was right for the responsibilities I had                                                                615 non-null    object \n",
      " 23  InstituteViews. Topic:6. The organisation recognised when staff did good work                                                                                  607 non-null    object \n",
      " 24  InstituteViews. Topic:7. Management was generally supportive of me                                                                                             614 non-null    object \n",
      " 25  InstituteViews. Topic:8. Management was generally supportive of my team                                                                                        608 non-null    object \n",
      " 26  InstituteViews. Topic:9. I was kept informed of the changes in the organisation which would affect me                                                          610 non-null    object \n",
      " 27  InstituteViews. Topic:10. Staff morale was positive within the Institute                                                                                       602 non-null    object \n",
      " 28  InstituteViews. Topic:11. If I had a workplace issue it was dealt with quickly                                                                                 601 non-null    object \n",
      " 29  InstituteViews. Topic:12. If I had a workplace issue it was dealt with efficiently                                                                             597 non-null    object \n",
      " 30  InstituteViews. Topic:13. If I had a workplace issue it was dealt with discreetly                                                                              601 non-null    object \n",
      " 31  WorkUnitViews. Topic:14. I was satisfied with the quality of the management and supervision within my work unit                                                609 non-null    object \n",
      " 32  WorkUnitViews. Topic:15. I worked well with my colleagues                                                                                                      605 non-null    object \n",
      " 33  WorkUnitViews. Topic:16. My job was challenging and interesting                                                                                                607 non-null    object \n",
      " 34  WorkUnitViews. Topic:17. I was encouraged to use my initiative in the course of my work                                                                        610 non-null    object \n",
      " 35  WorkUnitViews. Topic:18. I had sufficient contact with other people in my job                                                                                  613 non-null    object \n",
      " 36  WorkUnitViews. Topic:19. I was given adequate support and co-operation by my peers to enable me to do my job                                                   609 non-null    object \n",
      " 37  WorkUnitViews. Topic:20. I was able to use the full range of my skills in my job                                                                               609 non-null    object \n",
      " 38  WorkUnitViews. Topic:21. I was able to use the full range of my abilities in my job. ; Category:Level of Agreement; Question:YOUR VIEWS ABOUT YOUR WORK UNIT]  608 non-null    object \n",
      " 39  WorkUnitViews. Topic:22. I was able to use the full range of my knowledge in my job                                                                            608 non-null    object \n",
      " 40  WorkUnitViews. Topic:23. My job provided sufficient variety                                                                                                    611 non-null    object \n",
      " 41  WorkUnitViews. Topic:24. I was able to cope with the level of stress and pressure in my job                                                                    610 non-null    object \n",
      " 42  WorkUnitViews. Topic:25. My job allowed me to balance the demands of work and family to my satisfaction                                                        611 non-null    object \n",
      " 43  WorkUnitViews. Topic:26. My supervisor gave me adequate personal recognition and feedback on my performance                                                    606 non-null    object \n",
      " 44  WorkUnitViews. Topic:27. My working environment was satisfactory e.g. sufficient space, good lighting, suitable seating and working area                       610 non-null    object \n",
      " 45  WorkUnitViews. Topic:28. I was given the opportunity to mentor and coach others in order for me to pass on my skills and knowledge prior to my cessation date  609 non-null    object \n",
      " 46  WorkUnitViews. Topic:29. There was adequate communication between staff in my unit                                                                             603 non-null    object \n",
      " 47  WorkUnitViews. Topic:30. Staff morale was positive within my work unit                                                                                         606 non-null    object \n",
      " 48  Induction. Did you undertake Workplace Induction?                                                                                                              619 non-null    object \n",
      " 49  InductionInfo. Topic:Did you undertake a Corporate Induction?                                                                                                  432 non-null    object \n",
      " 50  InductionInfo. Topic:Did you undertake a Institute Induction?                                                                                                  483 non-null    object \n",
      " 51  InductionInfo. Topic: Did you undertake Team Induction?                                                                                                        440 non-null    object \n",
      " 52  InductionInfo. Face to Face Topic:Did you undertake a Corporate Induction; Category:How it was conducted?                                                      555 non-null    object \n",
      " 53  InductionInfo. On-line Topic:Did you undertake a Corporate Induction; Category:How it was conducted?                                                           555 non-null    object \n",
      " 54  InductionInfo. Induction Manual Topic:Did you undertake a Corporate Induction?                                                                                 555 non-null    object \n",
      " 55  InductionInfo. Face to Face Topic:Did you undertake a Institute Induction?                                                                                     530 non-null    object \n",
      " 56  InductionInfo. On-line Topic:Did you undertake a Institute Induction?                                                                                          555 non-null    object \n",
      " 57  InductionInfo. Induction Manual Topic:Did you undertake a Institute Induction?                                                                                 553 non-null    object \n",
      " 58  InductionInfo. Face to Face Topic: Did you undertake Team Induction; Category?                                                                                 555 non-null    object \n",
      " 59  InductionInfo. On-line Topic: Did you undertake Team Induction?process you undertook and how it was conducted.]                                                555 non-null    object \n",
      " 60  InductionInfo. Induction Manual Topic: Did you undertake Team Induction?                                                                                       555 non-null    object \n",
      " 61  Workplace. Topic:Did you and your Manager develop a Performance and Professional Development Plan (PPDP)?                                                      608 non-null    object \n",
      " 62  Workplace. Topic:Does your workplace promote a work culture free from all forms of unlawful discrimination?                                                    594 non-null    object \n",
      " 63  Workplace. Topic:Does your workplace promote and practice the principles of employment equity?                                                                 587 non-null    object \n",
      " 64  Workplace. Topic:Does your workplace value the diversity of its employees?                                                                                     586 non-null    object \n",
      " 65  Workplace. Topic:Would you recommend the Institute as an employer to others?                                                                                   581 non-null    object \n",
      " 66  Gender. What is your Gender?                                                                                                                                   596 non-null    object \n",
      " 67  CurrentAge. Current Age                                                                                                                                        596 non-null    object \n",
      " 68  Employment Type. Employment Type                                                                                                                               596 non-null    object \n",
      " 69  Classification. Classification                                                                                                                                 596 non-null    object \n",
      " 70  LengthofServiceOverall. Overall Length of Service at Institute (in years)                                                                                      596 non-null    object \n",
      " 71  LengthofServiceCurrent. Length of Service at current workplace (in years)                                                                                      596 non-null    object \n",
      "dtypes: float64(2), object(70)\n",
      "memory usage: 395.0+ KB\n",
      "None\n"
     ]
    }
   ],
   "source": [
    "print(tafe_survey.info())"
   ]
  },
  {
   "cell_type": "code",
   "execution_count": 17,
   "metadata": {},
   "outputs": [
    {
     "data": {
      "text/plain": [
       "(702, 72)"
      ]
     },
     "execution_count": 17,
     "metadata": {},
     "output_type": "execute_result"
    }
   ],
   "source": [
    "shape_tafe_survey = tafe_survey.shape\n",
    "shape_tafe_survey"
   ]
  },
  {
   "cell_type": "markdown",
   "metadata": {},
   "source": [
    "So it looks like for the analysis columns:\n",
    "\n",
    "_\"Record ID\", \"Contributing Factors. Job Dissatisfaction\", \"Reason for ceasing employment\", \"LengthofServiceOverall. Overall Length of Service at Institute (in years)\", \"CurrentAge. Current Age\"_\n",
    "\n",
    "are of interest to us.\n",
    "\n",
    "It looks as if our:\n",
    "\n",
    "_\"Contributing Factors. Job Dissatisfaction\"_\n",
    "\n",
    "column contains many NULLs. Let's look at it first:"
   ]
  },
  {
   "cell_type": "code",
   "execution_count": 18,
   "metadata": {},
   "outputs": [
    {
     "name": "stdout",
     "output_type": "stream",
     "text": [
      "Contributing Factors. Job Dissatisfaction\n",
      "-                      360\n",
      "Job Dissatisfaction     77\n",
      "Name: count, dtype: int64\n"
     ]
    }
   ],
   "source": [
    "print(tafe_survey['Contributing Factors. Job Dissatisfaction'].value_counts())"
   ]
  },
  {
   "cell_type": "markdown",
   "metadata": {},
   "source": [
    "Where there are not NULL values there are -'s which are about as much use!\n",
    "\n",
    "Without making assumptions there is no way to determine whether a dash means Job Dissatisfaction or N/A. \n",
    "\n",
    "Our DETE dataset gives us a much cleaner and accurate view of Job Dissatisfaction. Therefore, we are comfortable to remove these columns from our investigation of the TAFE survey."
   ]
  },
  {
   "cell_type": "code",
   "execution_count": 19,
   "metadata": {},
   "outputs": [],
   "source": [
    "tafe_survey_trimmed = tafe_survey.loc[:,['Record ID','Reason for ceasing employment','LengthofServiceOverall. Overall Length of Service at Institute (in years)','CurrentAge. Current Age']]"
   ]
  },
  {
   "cell_type": "code",
   "execution_count": 20,
   "metadata": {},
   "outputs": [
    {
     "name": "stdout",
     "output_type": "stream",
     "text": [
      "Record ID                                                                      0\n",
      "Reason for ceasing employment                                                  1\n",
      "LengthofServiceOverall. Overall Length of Service at Institute (in years)    106\n",
      "CurrentAge. Current Age                                                      106\n",
      "dtype: int64\n"
     ]
    }
   ],
   "source": [
    "print(tafe_survey_trimmed.isnull().sum())"
   ]
  },
  {
   "cell_type": "code",
   "execution_count": 21,
   "metadata": {},
   "outputs": [
    {
     "data": {
      "image/png": "[encoded data removed]",
      "text/plain": [
       "<Figure size 640x480 with 1 Axes>"
      ]
     },
     "metadata": {},
     "output_type": "display_data"
    }
   ],
   "source": [
    "tafe_survey_trimmed_record_index = tafe_survey_trimmed.set_index('Record ID')\n",
    "sns.heatmap(tafe_survey_trimmed_record_index.isnull(), cbar=False)\n",
    "plt.show()"
   ]
  },
  {
   "cell_type": "code",
   "execution_count": 22,
   "metadata": {},
   "outputs": [
    {
     "data": {
      "text/html": [
       "<div>\n",
       "<style scoped>\n",
       "    .dataframe tbody tr th:only-of-type {\n",
       "        vertical-align: middle;\n",
       "    }\n",
       "\n",
       "    .dataframe tbody tr th {\n",
       "        vertical-align: top;\n",
       "    }\n",
       "\n",
       "    .dataframe thead th {\n",
       "        text-align: right;\n",
       "    }\n",
       "</style>\n",
       "<table border=\"1\" class=\"dataframe\">\n",
       "  <thead>\n",
       "    <tr style=\"text-align: right;\">\n",
       "      <th></th>\n",
       "      <th>Record ID</th>\n",
       "      <th>Reason for ceasing employment</th>\n",
       "      <th>LengthofServiceOverall. Overall Length of Service at Institute (in years)</th>\n",
       "      <th>CurrentAge. Current Age</th>\n",
       "    </tr>\n",
       "  </thead>\n",
       "  <tbody>\n",
       "    <tr>\n",
       "      <th>324</th>\n",
       "      <td>6.345804e+17</td>\n",
       "      <td>NaN</td>\n",
       "      <td>NaN</td>\n",
       "      <td>NaN</td>\n",
       "    </tr>\n",
       "  </tbody>\n",
       "</table>\n",
       "</div>"
      ],
      "text/plain": [
       "        Record ID Reason for ceasing employment  \\\n",
       "324  6.345804e+17                           NaN   \n",
       "\n",
       "    LengthofServiceOverall. Overall Length of Service at Institute (in years)  \\\n",
       "324                                                NaN                          \n",
       "\n",
       "    CurrentAge. Current Age  \n",
       "324                     NaN  "
      ]
     },
     "execution_count": 22,
     "metadata": {},
     "output_type": "execute_result"
    }
   ],
   "source": [
    "missing = tafe_survey_trimmed['Reason for ceasing employment'].isnull()\n",
    "tafe_survey_trimmed_missing_termination_reason = tafe_survey_trimmed[missing]\n",
    "tafe_survey_trimmed_missing_termination_reason"
   ]
  },
  {
   "cell_type": "markdown",
   "metadata": {},
   "source": [
    "Let's look at this record to see if we can obtain some useful information from other columns, specifically to fill in the \"Reason for ceasing employment\" column."
   ]
  },
  {
   "cell_type": "code",
   "execution_count": 23,
   "metadata": {},
   "outputs": [],
   "source": [
    "tafe_survey_index324 = tafe_survey.loc[[324],:]"
   ]
  },
  {
   "cell_type": "code",
   "execution_count": 24,
   "metadata": {},
   "outputs": [],
   "source": [
    "tafe_survey_index324 = tafe_survey_index324.loc[:, tafe_survey_index324.notnull().all()]"
   ]
  },
  {
   "cell_type": "code",
   "execution_count": 25,
   "metadata": {},
   "outputs": [
    {
     "name": "stdout",
     "output_type": "stream",
     "text": [
      "        Record ID                         Institute                  WorkArea  \\\n",
      "324  6.345804e+17  Sunshine Coast Institute of TAFE  Non-Delivery (corporate)   \n",
      "\n",
      "     CESSATION YEAR  \n",
      "324          2011.0  \n"
     ]
    }
   ],
   "source": [
    "print(tafe_survey_index324)"
   ]
  },
  {
   "cell_type": "markdown",
   "metadata": {},
   "source": [
    "From the above analysis it looks as if the only non-NULL entries for this record are not usable to help us fill in a column of interest and therefore won't help us answer any of our goals. Further, as it is just one record we will remove it from our studies."
   ]
  },
  {
   "cell_type": "code",
   "execution_count": 26,
   "metadata": {},
   "outputs": [],
   "source": [
    "tafe_survey_trimmed = tafe_survey_trimmed.drop(324)"
   ]
  },
  {
   "cell_type": "code",
   "execution_count": 27,
   "metadata": {},
   "outputs": [
    {
     "name": "stdout",
     "output_type": "stream",
     "text": [
      "Record ID                                                                      0\n",
      "Reason for ceasing employment                                                  0\n",
      "LengthofServiceOverall. Overall Length of Service at Institute (in years)    105\n",
      "CurrentAge. Current Age                                                      105\n",
      "dtype: int64\n"
     ]
    }
   ],
   "source": [
    "print(tafe_survey_trimmed.isnull().sum())"
   ]
  },
  {
   "cell_type": "markdown",
   "metadata": {},
   "source": [
    "Record confirmed as removed."
   ]
  },
  {
   "cell_type": "code",
   "execution_count": 28,
   "metadata": {},
   "outputs": [
    {
     "data": {
      "text/html": [
       "<div>\n",
       "<style scoped>\n",
       "    .dataframe tbody tr th:only-of-type {\n",
       "        vertical-align: middle;\n",
       "    }\n",
       "\n",
       "    .dataframe tbody tr th {\n",
       "        vertical-align: top;\n",
       "    }\n",
       "\n",
       "    .dataframe thead th {\n",
       "        text-align: right;\n",
       "    }\n",
       "</style>\n",
       "<table border=\"1\" class=\"dataframe\">\n",
       "  <thead>\n",
       "    <tr style=\"text-align: right;\">\n",
       "      <th></th>\n",
       "      <th>Record ID</th>\n",
       "      <th>Reason for ceasing employment</th>\n",
       "      <th>LengthofServiceOverall. Overall Length of Service at Institute (in years)</th>\n",
       "      <th>CurrentAge. Current Age</th>\n",
       "    </tr>\n",
       "  </thead>\n",
       "  <tbody>\n",
       "    <tr>\n",
       "      <th>1</th>\n",
       "      <td>6.341337e+17</td>\n",
       "      <td>Retirement</td>\n",
       "      <td>NaN</td>\n",
       "      <td>NaN</td>\n",
       "    </tr>\n",
       "    <tr>\n",
       "      <th>2</th>\n",
       "      <td>6.341388e+17</td>\n",
       "      <td>Retirement</td>\n",
       "      <td>NaN</td>\n",
       "      <td>NaN</td>\n",
       "    </tr>\n",
       "    <tr>\n",
       "      <th>3</th>\n",
       "      <td>6.341399e+17</td>\n",
       "      <td>Resignation</td>\n",
       "      <td>NaN</td>\n",
       "      <td>NaN</td>\n",
       "    </tr>\n",
       "    <tr>\n",
       "      <th>16</th>\n",
       "      <td>6.341770e+17</td>\n",
       "      <td>Resignation</td>\n",
       "      <td>NaN</td>\n",
       "      <td>NaN</td>\n",
       "    </tr>\n",
       "    <tr>\n",
       "      <th>18</th>\n",
       "      <td>6.341779e+17</td>\n",
       "      <td>Resignation</td>\n",
       "      <td>NaN</td>\n",
       "      <td>NaN</td>\n",
       "    </tr>\n",
       "    <tr>\n",
       "      <th>...</th>\n",
       "      <td>...</td>\n",
       "      <td>...</td>\n",
       "      <td>...</td>\n",
       "      <td>...</td>\n",
       "    </tr>\n",
       "    <tr>\n",
       "      <th>672</th>\n",
       "      <td>6.350132e+17</td>\n",
       "      <td>Retirement</td>\n",
       "      <td>NaN</td>\n",
       "      <td>NaN</td>\n",
       "    </tr>\n",
       "    <tr>\n",
       "      <th>690</th>\n",
       "      <td>6.350496e+17</td>\n",
       "      <td>Resignation</td>\n",
       "      <td>NaN</td>\n",
       "      <td>NaN</td>\n",
       "    </tr>\n",
       "    <tr>\n",
       "      <th>692</th>\n",
       "      <td>6.350592e+17</td>\n",
       "      <td>Contract Expired</td>\n",
       "      <td>NaN</td>\n",
       "      <td>NaN</td>\n",
       "    </tr>\n",
       "    <tr>\n",
       "      <th>694</th>\n",
       "      <td>6.350652e+17</td>\n",
       "      <td>Resignation</td>\n",
       "      <td>NaN</td>\n",
       "      <td>NaN</td>\n",
       "    </tr>\n",
       "    <tr>\n",
       "      <th>698</th>\n",
       "      <td>6.350677e+17</td>\n",
       "      <td>Resignation</td>\n",
       "      <td>NaN</td>\n",
       "      <td>NaN</td>\n",
       "    </tr>\n",
       "  </tbody>\n",
       "</table>\n",
       "<p>105 rows × 4 columns</p>\n",
       "</div>"
      ],
      "text/plain": [
       "        Record ID Reason for ceasing employment  \\\n",
       "1    6.341337e+17                    Retirement   \n",
       "2    6.341388e+17                    Retirement   \n",
       "3    6.341399e+17                   Resignation   \n",
       "16   6.341770e+17                   Resignation   \n",
       "18   6.341779e+17                   Resignation   \n",
       "..            ...                           ...   \n",
       "672  6.350132e+17                    Retirement   \n",
       "690  6.350496e+17                   Resignation   \n",
       "692  6.350592e+17              Contract Expired   \n",
       "694  6.350652e+17                   Resignation   \n",
       "698  6.350677e+17                   Resignation   \n",
       "\n",
       "    LengthofServiceOverall. Overall Length of Service at Institute (in years)  \\\n",
       "1                                                  NaN                          \n",
       "2                                                  NaN                          \n",
       "3                                                  NaN                          \n",
       "16                                                 NaN                          \n",
       "18                                                 NaN                          \n",
       "..                                                 ...                          \n",
       "672                                                NaN                          \n",
       "690                                                NaN                          \n",
       "692                                                NaN                          \n",
       "694                                                NaN                          \n",
       "698                                                NaN                          \n",
       "\n",
       "    CurrentAge. Current Age  \n",
       "1                       NaN  \n",
       "2                       NaN  \n",
       "3                       NaN  \n",
       "16                      NaN  \n",
       "18                      NaN  \n",
       "..                      ...  \n",
       "672                     NaN  \n",
       "690                     NaN  \n",
       "692                     NaN  \n",
       "694                     NaN  \n",
       "698                     NaN  \n",
       "\n",
       "[105 rows x 4 columns]"
      ]
     },
     "execution_count": 28,
     "metadata": {},
     "output_type": "execute_result"
    }
   ],
   "source": [
    "rows_with_nulls = tafe_survey_trimmed[tafe_survey_trimmed.isnull().any(axis=1)]\n",
    "rows_with_nulls"
   ]
  },
  {
   "cell_type": "markdown",
   "metadata": {},
   "source": [
    "Regarding the values with NULL in the \"LengthOfServiceOverall\" and \"CurrentAge\" columns. It may be prudent to keep them, but fill them with \"Not Stated\". This is because the \"Reason for ceasing employment\" column is filled out so we can still get some usable insight from these records. We can just be sure to remove them from the scope of our age/ length of service related questions."
   ]
  },
  {
   "cell_type": "code",
   "execution_count": 29,
   "metadata": {},
   "outputs": [],
   "source": [
    "tafe_survey_trimmed= tafe_survey_trimmed.fillna(\"Not Stated\")"
   ]
  },
  {
   "cell_type": "code",
   "execution_count": 30,
   "metadata": {},
   "outputs": [
    {
     "name": "stdout",
     "output_type": "stream",
     "text": [
      "CurrentAge. Current Age\n",
      "56 or older      162\n",
      "Not Stated       105\n",
      "51-55             82\n",
      "41  45            80\n",
      "46  50            59\n",
      "31  35            52\n",
      "36  40            51\n",
      "26  30            50\n",
      "21  25            44\n",
      "20 or younger     16\n",
      "Name: count, dtype: int64\n"
     ]
    }
   ],
   "source": [
    "print(tafe_survey_trimmed['CurrentAge. Current Age'].value_counts())"
   ]
  },
  {
   "cell_type": "code",
   "execution_count": 31,
   "metadata": {},
   "outputs": [
    {
     "name": "stdout",
     "output_type": "stream",
     "text": [
      "LengthofServiceOverall. Overall Length of Service at Institute (in years)\n",
      "Less than 1 year      147\n",
      "Not Stated            105\n",
      "1-2                   102\n",
      "3-4                    96\n",
      "11-20                  89\n",
      "More than 20 years     71\n",
      "5-6                    48\n",
      "7-10                   43\n",
      "Name: count, dtype: int64\n"
     ]
    }
   ],
   "source": [
    "print(tafe_survey_trimmed['LengthofServiceOverall. Overall Length of Service at Institute (in years)'].value_counts())"
   ]
  },
  {
   "cell_type": "code",
   "execution_count": 32,
   "metadata": {},
   "outputs": [
    {
     "name": "stdout",
     "output_type": "stream",
     "text": [
      "Reason for ceasing employment\n",
      "Resignation                 340\n",
      "Contract Expired            127\n",
      "Retrenchment/ Redundancy    104\n",
      "Retirement                   82\n",
      "Transfer                     25\n",
      "Termination                  23\n",
      "Name: count, dtype: int64\n"
     ]
    }
   ],
   "source": [
    "print(tafe_survey_trimmed['Reason for ceasing employment'].value_counts())"
   ]
  },
  {
   "cell_type": "markdown",
   "metadata": {},
   "source": [
    "Conclusions:\n",
    "\n",
    "- TAFE data is relatively quite incomplete.\n",
    "\n",
    "- We have no Job Dissatisfaction data for this dataset.\n",
    "\n",
    "- Our column values and headers will need to be made consistent over both data sets."
   ]
  },
  {
   "cell_type": "markdown",
   "metadata": {},
   "source": [
    "***\n",
    "__Creating consistency between our datasets__\n",
    "\n",
    "We will go through column by column on each dataset to create consistent values and headers.\n",
    "\n",
    "__First, age:__"
   ]
  },
  {
   "cell_type": "code",
   "execution_count": 33,
   "metadata": {},
   "outputs": [
    {
     "name": "stdout",
     "output_type": "stream",
     "text": [
      "CurrentAge. Current Age\n",
      "56 or older      162\n",
      "Not Stated       105\n",
      "51-55             82\n",
      "41  45            80\n",
      "46  50            59\n",
      "31  35            52\n",
      "36  40            51\n",
      "26  30            50\n",
      "21  25            44\n",
      "20 or younger     16\n",
      "Name: count, dtype: int64\n"
     ]
    }
   ],
   "source": [
    "print(tafe_survey_trimmed['CurrentAge. Current Age'].value_counts())"
   ]
  },
  {
   "cell_type": "code",
   "execution_count": 34,
   "metadata": {},
   "outputs": [
    {
     "name": "stdout",
     "output_type": "stream",
     "text": [
      "Age\n",
      "61 or older      222\n",
      "56-60            174\n",
      "51-55            103\n",
      "46-50             63\n",
      "41-45             61\n",
      "26-30             57\n",
      "36-40             51\n",
      "21-25             40\n",
      "31-35             39\n",
      "Not Stated        11\n",
      "20 or younger      1\n",
      "Name: count, dtype: int64\n"
     ]
    }
   ],
   "source": [
    "print(dete_survey_trimmed['Age'].value_counts())"
   ]
  },
  {
   "cell_type": "markdown",
   "metadata": {},
   "source": [
    "A range is OK but we need to create consistent ranges. Changes that need to be made:\n",
    "\n",
    "- Introduce dashes into the ranges on the TAFE dataset.\n",
    "\n",
    "- Join the figures for 56-60 & 61 or older together and create a 56 or older category for the DETE dataset.\n",
    "\n",
    "- Rename the column for both."
   ]
  },
  {
   "cell_type": "code",
   "execution_count": 35,
   "metadata": {},
   "outputs": [],
   "source": [
    "input_regex_string = r'(\\d+)\\s+(\\d+)'\n",
    "output_regex_string = r'\\1-\\2'"
   ]
  },
  {
   "cell_type": "code",
   "execution_count": 36,
   "metadata": {},
   "outputs": [],
   "source": [
    "tafe_survey_trimmed['CurrentAge. Current Age'] = tafe_survey_trimmed['CurrentAge. Current Age'].apply(lambda x: re.sub(input_regex_string, r'\\1-\\2', x))\n",
    "tafe_survey_trimmed['CurrentAge. Current Age'] = tafe_survey_trimmed['CurrentAge. Current Age'].str.strip()\n",
    "\n",
    "tafe_survey_trimmed.rename(columns={'CurrentAge. Current Age': 'age'}, inplace=True)"
   ]
  },
  {
   "cell_type": "code",
   "execution_count": 37,
   "metadata": {},
   "outputs": [],
   "source": [
    "dete_survey_trimmed['Age'] = dete_survey_trimmed['Age'].str.strip()\n",
    "dete_survey_trimmed['Age'] = dete_survey_trimmed['Age'].str.replace('61 or older', '56-60')\n",
    "dete_survey_trimmed['Age'] = dete_survey_trimmed['Age'].str.replace('56-60', '56 or older')\n"
   ]
  },
  {
   "cell_type": "code",
   "execution_count": 38,
   "metadata": {},
   "outputs": [],
   "source": [
    "dete_survey_trimmed.rename(columns={'Age': 'age'}, inplace=True)"
   ]
  },
  {
   "cell_type": "code",
   "execution_count": 39,
   "metadata": {},
   "outputs": [
    {
     "name": "stdout",
     "output_type": "stream",
     "text": [
      "age\n",
      "56 or older      396\n",
      "51-55            103\n",
      "46-50             63\n",
      "41-45             61\n",
      "26-30             57\n",
      "36-40             51\n",
      "21-25             40\n",
      "31-35             39\n",
      "Not Stated        11\n",
      "20 or younger      1\n",
      "Name: count, dtype: int64\n"
     ]
    }
   ],
   "source": [
    "print(dete_survey_trimmed['age'].value_counts())"
   ]
  },
  {
   "cell_type": "code",
   "execution_count": 40,
   "metadata": {},
   "outputs": [
    {
     "name": "stdout",
     "output_type": "stream",
     "text": [
      "age\n",
      "56 or older      162\n",
      "Not Stated       105\n",
      "51-55             82\n",
      "41-45             80\n",
      "46-50             59\n",
      "31-35             52\n",
      "36-40             51\n",
      "26-30             50\n",
      "21-25             44\n",
      "20 or younger     16\n",
      "Name: count, dtype: int64\n"
     ]
    }
   ],
   "source": [
    "print(tafe_survey_trimmed['age'].value_counts())"
   ]
  },
  {
   "cell_type": "markdown",
   "metadata": {},
   "source": [
    "__Now, we will create some consistency in length of service:__"
   ]
  },
  {
   "cell_type": "code",
   "execution_count": 41,
   "metadata": {},
   "outputs": [
    {
     "name": "stdout",
     "output_type": "stream",
     "text": [
      "LengthofServiceOverall. Overall Length of Service at Institute (in years)\n",
      "Less than 1 year      147\n",
      "Not Stated            105\n",
      "1-2                   102\n",
      "3-4                    96\n",
      "11-20                  89\n",
      "More than 20 years     71\n",
      "5-6                    48\n",
      "7-10                   43\n",
      "Name: count, dtype: int64\n"
     ]
    }
   ],
   "source": [
    "print(tafe_survey_trimmed['LengthofServiceOverall. Overall Length of Service at Institute (in years)'].value_counts())"
   ]
  },
  {
   "cell_type": "code",
   "execution_count": 42,
   "metadata": {},
   "outputs": [
    {
     "name": "stdout",
     "output_type": "stream",
     "text": [
      "DETE Start Date\n",
      "Not Stated    73\n",
      "2011          40\n",
      "2007          34\n",
      "2008          31\n",
      "2010          27\n",
      "2012          27\n",
      "2009          24\n",
      "2006          23\n",
      "1970          21\n",
      "2013          21\n",
      "1975          21\n",
      "2005          20\n",
      "1990          20\n",
      "1996          19\n",
      "1999          19\n",
      "2000          18\n",
      "1992          18\n",
      "2004          18\n",
      "1991          18\n",
      "1989          17\n",
      "1976          15\n",
      "2002          15\n",
      "1978          15\n",
      "2003          15\n",
      "1988          15\n",
      "1974          14\n",
      "1980          14\n",
      "1995          14\n",
      "1998          14\n",
      "1997          14\n",
      "1979          14\n",
      "1993          13\n",
      "1986          12\n",
      "1972          12\n",
      "1977          11\n",
      "1971          10\n",
      "2001          10\n",
      "1984          10\n",
      "1969          10\n",
      "1994          10\n",
      "1981           9\n",
      "1983           9\n",
      "1985           8\n",
      "1973           8\n",
      "1987           7\n",
      "1963           4\n",
      "1982           4\n",
      "1968           3\n",
      "1967           2\n",
      "1966           1\n",
      "1965           1\n",
      "Name: count, dtype: int64\n"
     ]
    }
   ],
   "source": [
    "print(dete_survey_trimmed['DETE Start Date'].value_counts())"
   ]
  },
  {
   "cell_type": "code",
   "execution_count": 43,
   "metadata": {},
   "outputs": [
    {
     "name": "stdout",
     "output_type": "stream",
     "text": [
      "Cease Date\n",
      "2012          344\n",
      "2013          200\n",
      "01/2014        43\n",
      "12/2013        40\n",
      "Not Stated     34\n",
      "09/2013        34\n",
      "06/2013        27\n",
      "07/2013        22\n",
      "10/2013        20\n",
      "11/2013        16\n",
      "08/2013        12\n",
      "05/2013         7\n",
      "05/2012         6\n",
      "04/2014         2\n",
      "07/2014         2\n",
      "08/2012         2\n",
      "04/2013         2\n",
      "02/2014         2\n",
      "11/2012         1\n",
      "09/2010         1\n",
      "2010            1\n",
      "2014            1\n",
      "07/2012         1\n",
      "09/2014         1\n",
      "07/2006         1\n",
      "Name: count, dtype: int64\n"
     ]
    }
   ],
   "source": [
    "print(dete_survey_trimmed['Cease Date'].value_counts())"
   ]
  },
  {
   "cell_type": "markdown",
   "metadata": {},
   "source": [
    "A range is OK but we need to create consistent ranges. We also do not have any length of service column in our DETE dataset. We need to calculate one. Changes that need to be made:\n",
    "\n",
    "- Create a length of service column for DETE. We have a start date which is just a year, and a cease date that could be a year or could be a year and a month. For this we will use the following logic:\n",
    "\n",
    "-- _If either start or end not stated, not stated as we cannot calculate length of service._\n",
    "\n",
    "-- _For start date take the year value as is_\n",
    "\n",
    "-- _For end date, if month/year format, if month<06 then year is as is_\n",
    "\n",
    "--- _If month>06 then take the year as the following year._\n",
    "\n",
    "-- __This is an assumption that I want to make clear.__\n",
    "\n",
    "\n",
    "- Rename the column for both."
   ]
  },
  {
   "cell_type": "code",
   "execution_count": 44,
   "metadata": {},
   "outputs": [],
   "source": [
    "dete_survey_trimmed['year_ceased'] = pd.to_datetime(dete_survey_trimmed['Cease Date'], format='%m/%Y',errors='coerce')\n",
    "\n",
    "dete_survey_trimmed['year_ceased'] = dete_survey_trimmed['year_ceased'].dt.year + (dete_survey_trimmed['year_ceased'].dt.month > 6).astype(int)\n",
    "\n",
    "dete_survey_trimmed['year_left_job'] = dete_survey_trimmed['year_ceased'].combine_first(dete_survey_trimmed['Cease Date'])"
   ]
  },
  {
   "cell_type": "code",
   "execution_count": 45,
   "metadata": {},
   "outputs": [
    {
     "name": "stdout",
     "output_type": "stream",
     "text": [
      "year_left_job\n",
      "2012          344\n",
      "2013          200\n",
      "2014.0        191\n",
      "2013.0         40\n",
      "Not Stated     34\n",
      "2012.0          6\n",
      "2015.0          3\n",
      "2014            1\n",
      "2010            1\n",
      "2011.0          1\n",
      "2007.0          1\n",
      "Name: count, dtype: int64\n"
     ]
    }
   ],
   "source": [
    "print(dete_survey_trimmed['year_left_job'].value_counts())"
   ]
  },
  {
   "cell_type": "markdown",
   "metadata": {},
   "source": [
    "The Not Stated values in our new columns are going to cause us a pain when we perform the mathematical comparison to calculate length of service. I will now replace them with NaN so we can perform our calculation. Within the calculation I will account for these NaN values."
   ]
  },
  {
   "cell_type": "code",
   "execution_count": 46,
   "metadata": {},
   "outputs": [],
   "source": [
    "values_to_replace = {'year_left_job': 'Not Stated',\n",
    "                     'DETE Start Date': 'Not Stated'}\n",
    "\n",
    "dete_survey_trimmed.replace(values_to_replace, np.nan, inplace=True)"
   ]
  },
  {
   "cell_type": "code",
   "execution_count": 47,
   "metadata": {},
   "outputs": [],
   "source": [
    "dete_survey_trimmed['DETE Start Date'] = pd.to_numeric(dete_survey_trimmed['DETE Start Date'], errors='coerce')\n",
    "dete_survey_trimmed['year_left_job'] = pd.to_numeric(dete_survey_trimmed['year_left_job'], errors='coerce')"
   ]
  },
  {
   "cell_type": "code",
   "execution_count": 48,
   "metadata": {},
   "outputs": [],
   "source": [
    "def calculate_length_of_employment(row):\n",
    "    diff = row['year_left_job'] - row['DETE Start Date']\n",
    "    \n",
    "    if diff < 1:\n",
    "        return 'Less than 1 year'\n",
    "    elif 1 <= diff <= 2:\n",
    "        return '1-2'\n",
    "    elif 3 <= diff <= 4:\n",
    "        return '3-4'\n",
    "    elif 5 <= diff <= 6:\n",
    "        return '5-6'\n",
    "    elif 7 <= diff <= 10:\n",
    "        return '7-10'\n",
    "    elif 11 <= diff <= 20:\n",
    "        return '11-20'\n",
    "    elif diff > 20:\n",
    "        return 'More than 20 years'\n",
    "    else:\n",
    "        return 'Not Stated'\n",
    "\n",
    "dete_survey_trimmed['length_of_service'] = dete_survey_trimmed.apply(calculate_length_of_employment, axis=1)"
   ]
  },
  {
   "cell_type": "code",
   "execution_count": 49,
   "metadata": {},
   "outputs": [
    {
     "name": "stdout",
     "output_type": "stream",
     "text": [
      "length_of_service\n",
      "More than 20 years    302\n",
      "11-20                 144\n",
      "Not Stated            103\n",
      "1-2                    70\n",
      "7-10                   67\n",
      "3-4                    62\n",
      "5-6                    58\n",
      "Less than 1 year       16\n",
      "Name: count, dtype: int64\n"
     ]
    }
   ],
   "source": [
    "print(dete_survey_trimmed['length_of_service'].value_counts())"
   ]
  },
  {
   "cell_type": "markdown",
   "metadata": {},
   "source": [
    "To remind us of the TAFE dataframe values:"
   ]
  },
  {
   "cell_type": "code",
   "execution_count": 50,
   "metadata": {},
   "outputs": [
    {
     "name": "stdout",
     "output_type": "stream",
     "text": [
      "LengthofServiceOverall. Overall Length of Service at Institute (in years)\n",
      "Less than 1 year      147\n",
      "Not Stated            105\n",
      "1-2                   102\n",
      "3-4                    96\n",
      "11-20                  89\n",
      "More than 20 years     71\n",
      "5-6                    48\n",
      "7-10                   43\n",
      "Name: count, dtype: int64\n"
     ]
    }
   ],
   "source": [
    "print(tafe_survey_trimmed['LengthofServiceOverall. Overall Length of Service at Institute (in years)'].value_counts())"
   ]
  },
  {
   "cell_type": "code",
   "execution_count": 51,
   "metadata": {},
   "outputs": [],
   "source": [
    "tafe_survey_trimmed.rename(columns={'LengthofServiceOverall. Overall Length of Service at Institute (in years)': 'length_of_service'}, inplace=True)"
   ]
  },
  {
   "cell_type": "markdown",
   "metadata": {},
   "source": [
    "Our column names and values now match up for length of service.\n",
    "\n",
    "__Now, we will create some consistency in reason for ceasing employment.__"
   ]
  },
  {
   "cell_type": "code",
   "execution_count": 52,
   "metadata": {},
   "outputs": [
    {
     "name": "stdout",
     "output_type": "stream",
     "text": [
      "SeparationType\n",
      "Age Retirement                          285\n",
      "Resignation-Other reasons               150\n",
      "Resignation-Other employer               91\n",
      "Resignation-Move overseas/interstate     70\n",
      "Voluntary Early Retirement (VER)         67\n",
      "Ill Health Retirement                    61\n",
      "Other                                    49\n",
      "Contract Expired                         34\n",
      "Termination                              15\n",
      "Name: count, dtype: int64\n"
     ]
    }
   ],
   "source": [
    "print(dete_survey_trimmed['SeparationType'].value_counts())"
   ]
  },
  {
   "cell_type": "code",
   "execution_count": 53,
   "metadata": {},
   "outputs": [
    {
     "name": "stdout",
     "output_type": "stream",
     "text": [
      "Reason for ceasing employment\n",
      "Resignation                 340\n",
      "Contract Expired            127\n",
      "Retrenchment/ Redundancy    104\n",
      "Retirement                   82\n",
      "Transfer                     25\n",
      "Termination                  23\n",
      "Name: count, dtype: int64\n"
     ]
    }
   ],
   "source": [
    "print(tafe_survey_trimmed['Reason for ceasing employment'].value_counts())"
   ]
  },
  {
   "cell_type": "markdown",
   "metadata": {},
   "source": [
    "Our DETE dataset contains detail which is too granular for our investigation. We will therefore match categories.\n",
    "\n",
    "Matching categories:\n",
    "\n",
    "Age Retirement / I11 Health Retirement / VER = Retirement\n",
    "\n",
    "Resignation-Other reasons / Resignation-Other employer / Resignation-Move overseas/interstate = Resignation\n",
    "\n",
    "We will make these changes now and change the column name.\n"
   ]
  },
  {
   "cell_type": "code",
   "execution_count": 54,
   "metadata": {},
   "outputs": [],
   "source": [
    "values_to_replace = {'Age Retirement': 'Retirement', 'Ill Health Retirement': 'Retirement', 'Voluntary Early Retirement (VER)': 'Retirement',\n",
    "                     'Resignation-Other reasons': 'Resignation', 'Resignation-Other employer': 'Resignation', 'Resignation-Move overseas/interstate': 'Resignation'}\n",
    "\n",
    "dete_survey_trimmed['SeparationType'].replace(values_to_replace, inplace=True)"
   ]
  },
  {
   "cell_type": "code",
   "execution_count": 55,
   "metadata": {},
   "outputs": [
    {
     "name": "stdout",
     "output_type": "stream",
     "text": [
      "SeparationType\n",
      "Retirement          413\n",
      "Resignation         311\n",
      "Other                49\n",
      "Contract Expired     34\n",
      "Termination          15\n",
      "Name: count, dtype: int64\n"
     ]
    }
   ],
   "source": [
    "print(dete_survey_trimmed['SeparationType'].value_counts())"
   ]
  },
  {
   "cell_type": "code",
   "execution_count": 56,
   "metadata": {},
   "outputs": [],
   "source": [
    "dete_survey_trimmed.rename(columns={'SeparationType': 'reason_for_ceasing_employment'}, inplace=True)"
   ]
  },
  {
   "cell_type": "code",
   "execution_count": 57,
   "metadata": {},
   "outputs": [],
   "source": [
    "tafe_survey_trimmed.rename(columns={'Reason for ceasing employment': 'reason_for_ceasing_employment'}, inplace=True)"
   ]
  },
  {
   "cell_type": "markdown",
   "metadata": {},
   "source": [
    "Our column names and values now match up for reason for ceasing employment.\n",
    "\n",
    "__Now, we will now rename the job dissatisfaction and ID columns, create a new column for each to decipher which data set is which, remove redundant columns and concatenate the two dataframes together.__"
   ]
  },
  {
   "cell_type": "code",
   "execution_count": 58,
   "metadata": {},
   "outputs": [
    {
     "data": {
      "text/html": [
       "<div>\n",
       "<style scoped>\n",
       "    .dataframe tbody tr th:only-of-type {\n",
       "        vertical-align: middle;\n",
       "    }\n",
       "\n",
       "    .dataframe tbody tr th {\n",
       "        vertical-align: top;\n",
       "    }\n",
       "\n",
       "    .dataframe thead th {\n",
       "        text-align: right;\n",
       "    }\n",
       "</style>\n",
       "<table border=\"1\" class=\"dataframe\">\n",
       "  <thead>\n",
       "    <tr style=\"text-align: right;\">\n",
       "      <th></th>\n",
       "      <th>Record ID</th>\n",
       "      <th>reason_for_ceasing_employment</th>\n",
       "      <th>length_of_service</th>\n",
       "      <th>age</th>\n",
       "    </tr>\n",
       "  </thead>\n",
       "  <tbody>\n",
       "    <tr>\n",
       "      <th>0</th>\n",
       "      <td>6.341330e+17</td>\n",
       "      <td>Contract Expired</td>\n",
       "      <td>1-2</td>\n",
       "      <td>26-30</td>\n",
       "    </tr>\n",
       "    <tr>\n",
       "      <th>1</th>\n",
       "      <td>6.341337e+17</td>\n",
       "      <td>Retirement</td>\n",
       "      <td>Not Stated</td>\n",
       "      <td>Not Stated</td>\n",
       "    </tr>\n",
       "    <tr>\n",
       "      <th>2</th>\n",
       "      <td>6.341388e+17</td>\n",
       "      <td>Retirement</td>\n",
       "      <td>Not Stated</td>\n",
       "      <td>Not Stated</td>\n",
       "    </tr>\n",
       "    <tr>\n",
       "      <th>3</th>\n",
       "      <td>6.341399e+17</td>\n",
       "      <td>Resignation</td>\n",
       "      <td>Not Stated</td>\n",
       "      <td>Not Stated</td>\n",
       "    </tr>\n",
       "    <tr>\n",
       "      <th>4</th>\n",
       "      <td>6.341466e+17</td>\n",
       "      <td>Resignation</td>\n",
       "      <td>3-4</td>\n",
       "      <td>41-45</td>\n",
       "    </tr>\n",
       "    <tr>\n",
       "      <th>...</th>\n",
       "      <td>...</td>\n",
       "      <td>...</td>\n",
       "      <td>...</td>\n",
       "      <td>...</td>\n",
       "    </tr>\n",
       "    <tr>\n",
       "      <th>697</th>\n",
       "      <td>6.350668e+17</td>\n",
       "      <td>Resignation</td>\n",
       "      <td>1-2</td>\n",
       "      <td>51-55</td>\n",
       "    </tr>\n",
       "    <tr>\n",
       "      <th>698</th>\n",
       "      <td>6.350677e+17</td>\n",
       "      <td>Resignation</td>\n",
       "      <td>Not Stated</td>\n",
       "      <td>Not Stated</td>\n",
       "    </tr>\n",
       "    <tr>\n",
       "      <th>699</th>\n",
       "      <td>6.350704e+17</td>\n",
       "      <td>Resignation</td>\n",
       "      <td>5-6</td>\n",
       "      <td>51-55</td>\n",
       "    </tr>\n",
       "    <tr>\n",
       "      <th>700</th>\n",
       "      <td>6.350712e+17</td>\n",
       "      <td>Contract Expired</td>\n",
       "      <td>1-2</td>\n",
       "      <td>41-45</td>\n",
       "    </tr>\n",
       "    <tr>\n",
       "      <th>701</th>\n",
       "      <td>6.350730e+17</td>\n",
       "      <td>Resignation</td>\n",
       "      <td>3-4</td>\n",
       "      <td>26-30</td>\n",
       "    </tr>\n",
       "  </tbody>\n",
       "</table>\n",
       "<p>701 rows × 4 columns</p>\n",
       "</div>"
      ],
      "text/plain": [
       "        Record ID reason_for_ceasing_employment length_of_service         age\n",
       "0    6.341330e+17              Contract Expired               1-2       26-30\n",
       "1    6.341337e+17                    Retirement        Not Stated  Not Stated\n",
       "2    6.341388e+17                    Retirement        Not Stated  Not Stated\n",
       "3    6.341399e+17                   Resignation        Not Stated  Not Stated\n",
       "4    6.341466e+17                   Resignation               3-4       41-45\n",
       "..            ...                           ...               ...         ...\n",
       "697  6.350668e+17                   Resignation               1-2       51-55\n",
       "698  6.350677e+17                   Resignation        Not Stated  Not Stated\n",
       "699  6.350704e+17                   Resignation               5-6       51-55\n",
       "700  6.350712e+17              Contract Expired               1-2       41-45\n",
       "701  6.350730e+17                   Resignation               3-4       26-30\n",
       "\n",
       "[701 rows x 4 columns]"
      ]
     },
     "execution_count": 58,
     "metadata": {},
     "output_type": "execute_result"
    }
   ],
   "source": [
    "tafe_survey_trimmed"
   ]
  },
  {
   "cell_type": "code",
   "execution_count": 59,
   "metadata": {},
   "outputs": [],
   "source": [
    "tafe_survey_trimmed.rename(columns={'Record ID': 'id'}, inplace=True)\n",
    "\n",
    "tafe_survey_trimmed['institution'] = 'tafe'\n",
    "\n",
    "tafe_survey_trimmed['job_dissatisfaction'] = 'N.A'"
   ]
  },
  {
   "cell_type": "code",
   "execution_count": 60,
   "metadata": {},
   "outputs": [
    {
     "data": {
      "text/html": [
       "<div>\n",
       "<style scoped>\n",
       "    .dataframe tbody tr th:only-of-type {\n",
       "        vertical-align: middle;\n",
       "    }\n",
       "\n",
       "    .dataframe tbody tr th {\n",
       "        vertical-align: top;\n",
       "    }\n",
       "\n",
       "    .dataframe thead th {\n",
       "        text-align: right;\n",
       "    }\n",
       "</style>\n",
       "<table border=\"1\" class=\"dataframe\">\n",
       "  <thead>\n",
       "    <tr style=\"text-align: right;\">\n",
       "      <th></th>\n",
       "      <th>id</th>\n",
       "      <th>reason_for_ceasing_employment</th>\n",
       "      <th>length_of_service</th>\n",
       "      <th>age</th>\n",
       "      <th>institution</th>\n",
       "      <th>job_dissatisfaction</th>\n",
       "    </tr>\n",
       "  </thead>\n",
       "  <tbody>\n",
       "    <tr>\n",
       "      <th>0</th>\n",
       "      <td>6.341330e+17</td>\n",
       "      <td>Contract Expired</td>\n",
       "      <td>1-2</td>\n",
       "      <td>26-30</td>\n",
       "      <td>tafe</td>\n",
       "      <td>N.A</td>\n",
       "    </tr>\n",
       "    <tr>\n",
       "      <th>1</th>\n",
       "      <td>6.341337e+17</td>\n",
       "      <td>Retirement</td>\n",
       "      <td>Not Stated</td>\n",
       "      <td>Not Stated</td>\n",
       "      <td>tafe</td>\n",
       "      <td>N.A</td>\n",
       "    </tr>\n",
       "    <tr>\n",
       "      <th>2</th>\n",
       "      <td>6.341388e+17</td>\n",
       "      <td>Retirement</td>\n",
       "      <td>Not Stated</td>\n",
       "      <td>Not Stated</td>\n",
       "      <td>tafe</td>\n",
       "      <td>N.A</td>\n",
       "    </tr>\n",
       "    <tr>\n",
       "      <th>3</th>\n",
       "      <td>6.341399e+17</td>\n",
       "      <td>Resignation</td>\n",
       "      <td>Not Stated</td>\n",
       "      <td>Not Stated</td>\n",
       "      <td>tafe</td>\n",
       "      <td>N.A</td>\n",
       "    </tr>\n",
       "    <tr>\n",
       "      <th>4</th>\n",
       "      <td>6.341466e+17</td>\n",
       "      <td>Resignation</td>\n",
       "      <td>3-4</td>\n",
       "      <td>41-45</td>\n",
       "      <td>tafe</td>\n",
       "      <td>N.A</td>\n",
       "    </tr>\n",
       "    <tr>\n",
       "      <th>...</th>\n",
       "      <td>...</td>\n",
       "      <td>...</td>\n",
       "      <td>...</td>\n",
       "      <td>...</td>\n",
       "      <td>...</td>\n",
       "      <td>...</td>\n",
       "    </tr>\n",
       "    <tr>\n",
       "      <th>697</th>\n",
       "      <td>6.350668e+17</td>\n",
       "      <td>Resignation</td>\n",
       "      <td>1-2</td>\n",
       "      <td>51-55</td>\n",
       "      <td>tafe</td>\n",
       "      <td>N.A</td>\n",
       "    </tr>\n",
       "    <tr>\n",
       "      <th>698</th>\n",
       "      <td>6.350677e+17</td>\n",
       "      <td>Resignation</td>\n",
       "      <td>Not Stated</td>\n",
       "      <td>Not Stated</td>\n",
       "      <td>tafe</td>\n",
       "      <td>N.A</td>\n",
       "    </tr>\n",
       "    <tr>\n",
       "      <th>699</th>\n",
       "      <td>6.350704e+17</td>\n",
       "      <td>Resignation</td>\n",
       "      <td>5-6</td>\n",
       "      <td>51-55</td>\n",
       "      <td>tafe</td>\n",
       "      <td>N.A</td>\n",
       "    </tr>\n",
       "    <tr>\n",
       "      <th>700</th>\n",
       "      <td>6.350712e+17</td>\n",
       "      <td>Contract Expired</td>\n",
       "      <td>1-2</td>\n",
       "      <td>41-45</td>\n",
       "      <td>tafe</td>\n",
       "      <td>N.A</td>\n",
       "    </tr>\n",
       "    <tr>\n",
       "      <th>701</th>\n",
       "      <td>6.350730e+17</td>\n",
       "      <td>Resignation</td>\n",
       "      <td>3-4</td>\n",
       "      <td>26-30</td>\n",
       "      <td>tafe</td>\n",
       "      <td>N.A</td>\n",
       "    </tr>\n",
       "  </tbody>\n",
       "</table>\n",
       "<p>701 rows × 6 columns</p>\n",
       "</div>"
      ],
      "text/plain": [
       "               id reason_for_ceasing_employment length_of_service         age  \\\n",
       "0    6.341330e+17              Contract Expired               1-2       26-30   \n",
       "1    6.341337e+17                    Retirement        Not Stated  Not Stated   \n",
       "2    6.341388e+17                    Retirement        Not Stated  Not Stated   \n",
       "3    6.341399e+17                   Resignation        Not Stated  Not Stated   \n",
       "4    6.341466e+17                   Resignation               3-4       41-45   \n",
       "..            ...                           ...               ...         ...   \n",
       "697  6.350668e+17                   Resignation               1-2       51-55   \n",
       "698  6.350677e+17                   Resignation        Not Stated  Not Stated   \n",
       "699  6.350704e+17                   Resignation               5-6       51-55   \n",
       "700  6.350712e+17              Contract Expired               1-2       41-45   \n",
       "701  6.350730e+17                   Resignation               3-4       26-30   \n",
       "\n",
       "    institution job_dissatisfaction  \n",
       "0          tafe                 N.A  \n",
       "1          tafe                 N.A  \n",
       "2          tafe                 N.A  \n",
       "3          tafe                 N.A  \n",
       "4          tafe                 N.A  \n",
       "..          ...                 ...  \n",
       "697        tafe                 N.A  \n",
       "698        tafe                 N.A  \n",
       "699        tafe                 N.A  \n",
       "700        tafe                 N.A  \n",
       "701        tafe                 N.A  \n",
       "\n",
       "[701 rows x 6 columns]"
      ]
     },
     "execution_count": 60,
     "metadata": {},
     "output_type": "execute_result"
    }
   ],
   "source": [
    "tafe_survey_trimmed"
   ]
  },
  {
   "cell_type": "code",
   "execution_count": 61,
   "metadata": {},
   "outputs": [
    {
     "data": {
      "text/html": [
       "<div>\n",
       "<style scoped>\n",
       "    .dataframe tbody tr th:only-of-type {\n",
       "        vertical-align: middle;\n",
       "    }\n",
       "\n",
       "    .dataframe tbody tr th {\n",
       "        vertical-align: top;\n",
       "    }\n",
       "\n",
       "    .dataframe thead th {\n",
       "        text-align: right;\n",
       "    }\n",
       "</style>\n",
       "<table border=\"1\" class=\"dataframe\">\n",
       "  <thead>\n",
       "    <tr style=\"text-align: right;\">\n",
       "      <th></th>\n",
       "      <th>ID</th>\n",
       "      <th>reason_for_ceasing_employment</th>\n",
       "      <th>Cease Date</th>\n",
       "      <th>DETE Start Date</th>\n",
       "      <th>age</th>\n",
       "      <th>Job dissatisfaction</th>\n",
       "      <th>year_ceased</th>\n",
       "      <th>year_left_job</th>\n",
       "      <th>length_of_service</th>\n",
       "    </tr>\n",
       "  </thead>\n",
       "  <tbody>\n",
       "    <tr>\n",
       "      <th>0</th>\n",
       "      <td>1</td>\n",
       "      <td>Retirement</td>\n",
       "      <td>08/2012</td>\n",
       "      <td>1984.0</td>\n",
       "      <td>56 or older</td>\n",
       "      <td>True</td>\n",
       "      <td>2013.0</td>\n",
       "      <td>2013.0</td>\n",
       "      <td>More than 20 years</td>\n",
       "    </tr>\n",
       "    <tr>\n",
       "      <th>1</th>\n",
       "      <td>2</td>\n",
       "      <td>Retirement</td>\n",
       "      <td>08/2012</td>\n",
       "      <td>NaN</td>\n",
       "      <td>56 or older</td>\n",
       "      <td>False</td>\n",
       "      <td>2013.0</td>\n",
       "      <td>2013.0</td>\n",
       "      <td>Not Stated</td>\n",
       "    </tr>\n",
       "    <tr>\n",
       "      <th>2</th>\n",
       "      <td>3</td>\n",
       "      <td>Retirement</td>\n",
       "      <td>05/2012</td>\n",
       "      <td>2011.0</td>\n",
       "      <td>56 or older</td>\n",
       "      <td>False</td>\n",
       "      <td>2012.0</td>\n",
       "      <td>2012.0</td>\n",
       "      <td>1-2</td>\n",
       "    </tr>\n",
       "    <tr>\n",
       "      <th>3</th>\n",
       "      <td>4</td>\n",
       "      <td>Resignation</td>\n",
       "      <td>05/2012</td>\n",
       "      <td>2005.0</td>\n",
       "      <td>36-40</td>\n",
       "      <td>False</td>\n",
       "      <td>2012.0</td>\n",
       "      <td>2012.0</td>\n",
       "      <td>7-10</td>\n",
       "    </tr>\n",
       "    <tr>\n",
       "      <th>4</th>\n",
       "      <td>5</td>\n",
       "      <td>Retirement</td>\n",
       "      <td>05/2012</td>\n",
       "      <td>1970.0</td>\n",
       "      <td>56 or older</td>\n",
       "      <td>False</td>\n",
       "      <td>2012.0</td>\n",
       "      <td>2012.0</td>\n",
       "      <td>More than 20 years</td>\n",
       "    </tr>\n",
       "    <tr>\n",
       "      <th>...</th>\n",
       "      <td>...</td>\n",
       "      <td>...</td>\n",
       "      <td>...</td>\n",
       "      <td>...</td>\n",
       "      <td>...</td>\n",
       "      <td>...</td>\n",
       "      <td>...</td>\n",
       "      <td>...</td>\n",
       "      <td>...</td>\n",
       "    </tr>\n",
       "    <tr>\n",
       "      <th>817</th>\n",
       "      <td>819</td>\n",
       "      <td>Retirement</td>\n",
       "      <td>02/2014</td>\n",
       "      <td>1977.0</td>\n",
       "      <td>56 or older</td>\n",
       "      <td>False</td>\n",
       "      <td>2014.0</td>\n",
       "      <td>2014.0</td>\n",
       "      <td>More than 20 years</td>\n",
       "    </tr>\n",
       "    <tr>\n",
       "      <th>818</th>\n",
       "      <td>820</td>\n",
       "      <td>Retirement</td>\n",
       "      <td>01/2014</td>\n",
       "      <td>1980.0</td>\n",
       "      <td>51-55</td>\n",
       "      <td>False</td>\n",
       "      <td>2014.0</td>\n",
       "      <td>2014.0</td>\n",
       "      <td>More than 20 years</td>\n",
       "    </tr>\n",
       "    <tr>\n",
       "      <th>819</th>\n",
       "      <td>821</td>\n",
       "      <td>Resignation</td>\n",
       "      <td>01/2014</td>\n",
       "      <td>2009.0</td>\n",
       "      <td>31-35</td>\n",
       "      <td>False</td>\n",
       "      <td>2014.0</td>\n",
       "      <td>2014.0</td>\n",
       "      <td>5-6</td>\n",
       "    </tr>\n",
       "    <tr>\n",
       "      <th>820</th>\n",
       "      <td>822</td>\n",
       "      <td>Retirement</td>\n",
       "      <td>12/2013</td>\n",
       "      <td>2001.0</td>\n",
       "      <td>41-45</td>\n",
       "      <td>False</td>\n",
       "      <td>2014.0</td>\n",
       "      <td>2014.0</td>\n",
       "      <td>11-20</td>\n",
       "    </tr>\n",
       "    <tr>\n",
       "      <th>821</th>\n",
       "      <td>823</td>\n",
       "      <td>Resignation</td>\n",
       "      <td>12/2013</td>\n",
       "      <td>NaN</td>\n",
       "      <td>Not Stated</td>\n",
       "      <td>False</td>\n",
       "      <td>2014.0</td>\n",
       "      <td>2014.0</td>\n",
       "      <td>Not Stated</td>\n",
       "    </tr>\n",
       "  </tbody>\n",
       "</table>\n",
       "<p>822 rows × 9 columns</p>\n",
       "</div>"
      ],
      "text/plain": [
       "      ID reason_for_ceasing_employment Cease Date  DETE Start Date  \\\n",
       "0      1                    Retirement    08/2012           1984.0   \n",
       "1      2                    Retirement    08/2012              NaN   \n",
       "2      3                    Retirement    05/2012           2011.0   \n",
       "3      4                   Resignation    05/2012           2005.0   \n",
       "4      5                    Retirement    05/2012           1970.0   \n",
       "..   ...                           ...        ...              ...   \n",
       "817  819                    Retirement    02/2014           1977.0   \n",
       "818  820                    Retirement    01/2014           1980.0   \n",
       "819  821                   Resignation    01/2014           2009.0   \n",
       "820  822                    Retirement    12/2013           2001.0   \n",
       "821  823                   Resignation    12/2013              NaN   \n",
       "\n",
       "             age  Job dissatisfaction  year_ceased  year_left_job  \\\n",
       "0    56 or older                 True       2013.0         2013.0   \n",
       "1    56 or older                False       2013.0         2013.0   \n",
       "2    56 or older                False       2012.0         2012.0   \n",
       "3          36-40                False       2012.0         2012.0   \n",
       "4    56 or older                False       2012.0         2012.0   \n",
       "..           ...                  ...          ...            ...   \n",
       "817  56 or older                False       2014.0         2014.0   \n",
       "818        51-55                False       2014.0         2014.0   \n",
       "819        31-35                False       2014.0         2014.0   \n",
       "820        41-45                False       2014.0         2014.0   \n",
       "821   Not Stated                False       2014.0         2014.0   \n",
       "\n",
       "      length_of_service  \n",
       "0    More than 20 years  \n",
       "1            Not Stated  \n",
       "2                   1-2  \n",
       "3                  7-10  \n",
       "4    More than 20 years  \n",
       "..                  ...  \n",
       "817  More than 20 years  \n",
       "818  More than 20 years  \n",
       "819                 5-6  \n",
       "820               11-20  \n",
       "821          Not Stated  \n",
       "\n",
       "[822 rows x 9 columns]"
      ]
     },
     "execution_count": 61,
     "metadata": {},
     "output_type": "execute_result"
    }
   ],
   "source": [
    "dete_survey_trimmed"
   ]
  },
  {
   "cell_type": "code",
   "execution_count": 62,
   "metadata": {},
   "outputs": [],
   "source": [
    "dete_survey_trimmed.rename(columns={'ID': 'id', 'Job dissatisfaction':'job_dissatisfaction'}, inplace=True)\n",
    "columns_to_drop = ['Cease Date', 'DETE Start Date', 'year_ceased', 'year_left_job']\n",
    "dete_survey_trimmed = dete_survey_trimmed.drop(columns=columns_to_drop)\n",
    "dete_survey_trimmed['institution'] = 'dete'"
   ]
  },
  {
   "cell_type": "code",
   "execution_count": 63,
   "metadata": {},
   "outputs": [
    {
     "data": {
      "text/html": [
       "<div>\n",
       "<style scoped>\n",
       "    .dataframe tbody tr th:only-of-type {\n",
       "        vertical-align: middle;\n",
       "    }\n",
       "\n",
       "    .dataframe tbody tr th {\n",
       "        vertical-align: top;\n",
       "    }\n",
       "\n",
       "    .dataframe thead th {\n",
       "        text-align: right;\n",
       "    }\n",
       "</style>\n",
       "<table border=\"1\" class=\"dataframe\">\n",
       "  <thead>\n",
       "    <tr style=\"text-align: right;\">\n",
       "      <th></th>\n",
       "      <th>id</th>\n",
       "      <th>reason_for_ceasing_employment</th>\n",
       "      <th>age</th>\n",
       "      <th>job_dissatisfaction</th>\n",
       "      <th>length_of_service</th>\n",
       "      <th>institution</th>\n",
       "    </tr>\n",
       "  </thead>\n",
       "  <tbody>\n",
       "    <tr>\n",
       "      <th>0</th>\n",
       "      <td>1</td>\n",
       "      <td>Retirement</td>\n",
       "      <td>56 or older</td>\n",
       "      <td>True</td>\n",
       "      <td>More than 20 years</td>\n",
       "      <td>dete</td>\n",
       "    </tr>\n",
       "    <tr>\n",
       "      <th>1</th>\n",
       "      <td>2</td>\n",
       "      <td>Retirement</td>\n",
       "      <td>56 or older</td>\n",
       "      <td>False</td>\n",
       "      <td>Not Stated</td>\n",
       "      <td>dete</td>\n",
       "    </tr>\n",
       "    <tr>\n",
       "      <th>2</th>\n",
       "      <td>3</td>\n",
       "      <td>Retirement</td>\n",
       "      <td>56 or older</td>\n",
       "      <td>False</td>\n",
       "      <td>1-2</td>\n",
       "      <td>dete</td>\n",
       "    </tr>\n",
       "    <tr>\n",
       "      <th>3</th>\n",
       "      <td>4</td>\n",
       "      <td>Resignation</td>\n",
       "      <td>36-40</td>\n",
       "      <td>False</td>\n",
       "      <td>7-10</td>\n",
       "      <td>dete</td>\n",
       "    </tr>\n",
       "    <tr>\n",
       "      <th>4</th>\n",
       "      <td>5</td>\n",
       "      <td>Retirement</td>\n",
       "      <td>56 or older</td>\n",
       "      <td>False</td>\n",
       "      <td>More than 20 years</td>\n",
       "      <td>dete</td>\n",
       "    </tr>\n",
       "    <tr>\n",
       "      <th>...</th>\n",
       "      <td>...</td>\n",
       "      <td>...</td>\n",
       "      <td>...</td>\n",
       "      <td>...</td>\n",
       "      <td>...</td>\n",
       "      <td>...</td>\n",
       "    </tr>\n",
       "    <tr>\n",
       "      <th>817</th>\n",
       "      <td>819</td>\n",
       "      <td>Retirement</td>\n",
       "      <td>56 or older</td>\n",
       "      <td>False</td>\n",
       "      <td>More than 20 years</td>\n",
       "      <td>dete</td>\n",
       "    </tr>\n",
       "    <tr>\n",
       "      <th>818</th>\n",
       "      <td>820</td>\n",
       "      <td>Retirement</td>\n",
       "      <td>51-55</td>\n",
       "      <td>False</td>\n",
       "      <td>More than 20 years</td>\n",
       "      <td>dete</td>\n",
       "    </tr>\n",
       "    <tr>\n",
       "      <th>819</th>\n",
       "      <td>821</td>\n",
       "      <td>Resignation</td>\n",
       "      <td>31-35</td>\n",
       "      <td>False</td>\n",
       "      <td>5-6</td>\n",
       "      <td>dete</td>\n",
       "    </tr>\n",
       "    <tr>\n",
       "      <th>820</th>\n",
       "      <td>822</td>\n",
       "      <td>Retirement</td>\n",
       "      <td>41-45</td>\n",
       "      <td>False</td>\n",
       "      <td>11-20</td>\n",
       "      <td>dete</td>\n",
       "    </tr>\n",
       "    <tr>\n",
       "      <th>821</th>\n",
       "      <td>823</td>\n",
       "      <td>Resignation</td>\n",
       "      <td>Not Stated</td>\n",
       "      <td>False</td>\n",
       "      <td>Not Stated</td>\n",
       "      <td>dete</td>\n",
       "    </tr>\n",
       "  </tbody>\n",
       "</table>\n",
       "<p>822 rows × 6 columns</p>\n",
       "</div>"
      ],
      "text/plain": [
       "      id reason_for_ceasing_employment          age  job_dissatisfaction  \\\n",
       "0      1                    Retirement  56 or older                 True   \n",
       "1      2                    Retirement  56 or older                False   \n",
       "2      3                    Retirement  56 or older                False   \n",
       "3      4                   Resignation        36-40                False   \n",
       "4      5                    Retirement  56 or older                False   \n",
       "..   ...                           ...          ...                  ...   \n",
       "817  819                    Retirement  56 or older                False   \n",
       "818  820                    Retirement        51-55                False   \n",
       "819  821                   Resignation        31-35                False   \n",
       "820  822                    Retirement        41-45                False   \n",
       "821  823                   Resignation   Not Stated                False   \n",
       "\n",
       "      length_of_service institution  \n",
       "0    More than 20 years        dete  \n",
       "1            Not Stated        dete  \n",
       "2                   1-2        dete  \n",
       "3                  7-10        dete  \n",
       "4    More than 20 years        dete  \n",
       "..                  ...         ...  \n",
       "817  More than 20 years        dete  \n",
       "818  More than 20 years        dete  \n",
       "819                 5-6        dete  \n",
       "820               11-20        dete  \n",
       "821          Not Stated        dete  \n",
       "\n",
       "[822 rows x 6 columns]"
      ]
     },
     "execution_count": 63,
     "metadata": {},
     "output_type": "execute_result"
    }
   ],
   "source": [
    "dete_survey_trimmed"
   ]
  },
  {
   "cell_type": "code",
   "execution_count": 64,
   "metadata": {},
   "outputs": [
    {
     "data": {
      "text/html": [
       "<div>\n",
       "<style scoped>\n",
       "    .dataframe tbody tr th:only-of-type {\n",
       "        vertical-align: middle;\n",
       "    }\n",
       "\n",
       "    .dataframe tbody tr th {\n",
       "        vertical-align: top;\n",
       "    }\n",
       "\n",
       "    .dataframe thead th {\n",
       "        text-align: right;\n",
       "    }\n",
       "</style>\n",
       "<table border=\"1\" class=\"dataframe\">\n",
       "  <thead>\n",
       "    <tr style=\"text-align: right;\">\n",
       "      <th></th>\n",
       "      <th>id</th>\n",
       "      <th>reason_for_ceasing_employment</th>\n",
       "      <th>length_of_service</th>\n",
       "      <th>age</th>\n",
       "      <th>institution</th>\n",
       "      <th>job_dissatisfaction</th>\n",
       "    </tr>\n",
       "  </thead>\n",
       "  <tbody>\n",
       "    <tr>\n",
       "      <th>0</th>\n",
       "      <td>6.341330e+17</td>\n",
       "      <td>Contract Expired</td>\n",
       "      <td>1-2</td>\n",
       "      <td>26-30</td>\n",
       "      <td>tafe</td>\n",
       "      <td>N.A</td>\n",
       "    </tr>\n",
       "    <tr>\n",
       "      <th>1</th>\n",
       "      <td>6.341337e+17</td>\n",
       "      <td>Retirement</td>\n",
       "      <td>Not Stated</td>\n",
       "      <td>Not Stated</td>\n",
       "      <td>tafe</td>\n",
       "      <td>N.A</td>\n",
       "    </tr>\n",
       "    <tr>\n",
       "      <th>2</th>\n",
       "      <td>6.341388e+17</td>\n",
       "      <td>Retirement</td>\n",
       "      <td>Not Stated</td>\n",
       "      <td>Not Stated</td>\n",
       "      <td>tafe</td>\n",
       "      <td>N.A</td>\n",
       "    </tr>\n",
       "    <tr>\n",
       "      <th>3</th>\n",
       "      <td>6.341399e+17</td>\n",
       "      <td>Resignation</td>\n",
       "      <td>Not Stated</td>\n",
       "      <td>Not Stated</td>\n",
       "      <td>tafe</td>\n",
       "      <td>N.A</td>\n",
       "    </tr>\n",
       "    <tr>\n",
       "      <th>4</th>\n",
       "      <td>6.341466e+17</td>\n",
       "      <td>Resignation</td>\n",
       "      <td>3-4</td>\n",
       "      <td>41-45</td>\n",
       "      <td>tafe</td>\n",
       "      <td>N.A</td>\n",
       "    </tr>\n",
       "    <tr>\n",
       "      <th>...</th>\n",
       "      <td>...</td>\n",
       "      <td>...</td>\n",
       "      <td>...</td>\n",
       "      <td>...</td>\n",
       "      <td>...</td>\n",
       "      <td>...</td>\n",
       "    </tr>\n",
       "    <tr>\n",
       "      <th>1518</th>\n",
       "      <td>8.190000e+02</td>\n",
       "      <td>Retirement</td>\n",
       "      <td>More than 20 years</td>\n",
       "      <td>56 or older</td>\n",
       "      <td>dete</td>\n",
       "      <td>False</td>\n",
       "    </tr>\n",
       "    <tr>\n",
       "      <th>1519</th>\n",
       "      <td>8.200000e+02</td>\n",
       "      <td>Retirement</td>\n",
       "      <td>More than 20 years</td>\n",
       "      <td>51-55</td>\n",
       "      <td>dete</td>\n",
       "      <td>False</td>\n",
       "    </tr>\n",
       "    <tr>\n",
       "      <th>1520</th>\n",
       "      <td>8.210000e+02</td>\n",
       "      <td>Resignation</td>\n",
       "      <td>5-6</td>\n",
       "      <td>31-35</td>\n",
       "      <td>dete</td>\n",
       "      <td>False</td>\n",
       "    </tr>\n",
       "    <tr>\n",
       "      <th>1521</th>\n",
       "      <td>8.220000e+02</td>\n",
       "      <td>Retirement</td>\n",
       "      <td>11-20</td>\n",
       "      <td>41-45</td>\n",
       "      <td>dete</td>\n",
       "      <td>False</td>\n",
       "    </tr>\n",
       "    <tr>\n",
       "      <th>1522</th>\n",
       "      <td>8.230000e+02</td>\n",
       "      <td>Resignation</td>\n",
       "      <td>Not Stated</td>\n",
       "      <td>Not Stated</td>\n",
       "      <td>dete</td>\n",
       "      <td>False</td>\n",
       "    </tr>\n",
       "  </tbody>\n",
       "</table>\n",
       "<p>1523 rows × 6 columns</p>\n",
       "</div>"
      ],
      "text/plain": [
       "                id reason_for_ceasing_employment   length_of_service  \\\n",
       "0     6.341330e+17              Contract Expired                 1-2   \n",
       "1     6.341337e+17                    Retirement          Not Stated   \n",
       "2     6.341388e+17                    Retirement          Not Stated   \n",
       "3     6.341399e+17                   Resignation          Not Stated   \n",
       "4     6.341466e+17                   Resignation                 3-4   \n",
       "...            ...                           ...                 ...   \n",
       "1518  8.190000e+02                    Retirement  More than 20 years   \n",
       "1519  8.200000e+02                    Retirement  More than 20 years   \n",
       "1520  8.210000e+02                   Resignation                 5-6   \n",
       "1521  8.220000e+02                    Retirement               11-20   \n",
       "1522  8.230000e+02                   Resignation          Not Stated   \n",
       "\n",
       "              age institution job_dissatisfaction  \n",
       "0           26-30        tafe                 N.A  \n",
       "1      Not Stated        tafe                 N.A  \n",
       "2      Not Stated        tafe                 N.A  \n",
       "3      Not Stated        tafe                 N.A  \n",
       "4           41-45        tafe                 N.A  \n",
       "...           ...         ...                 ...  \n",
       "1518  56 or older        dete               False  \n",
       "1519        51-55        dete               False  \n",
       "1520        31-35        dete               False  \n",
       "1521        41-45        dete               False  \n",
       "1522   Not Stated        dete               False  \n",
       "\n",
       "[1523 rows x 6 columns]"
      ]
     },
     "execution_count": 64,
     "metadata": {},
     "output_type": "execute_result"
    }
   ],
   "source": [
    "combined = pd.concat([tafe_survey_trimmed, dete_survey_trimmed], axis=0, ignore_index=True)\n",
    "\n",
    "combined"
   ]
  },
  {
   "cell_type": "markdown",
   "metadata": {},
   "source": [
    "We have a clean dataset that we understand including the limitations. Let's begin the analysis.\n",
    "***\n",
    "\n",
    "To remind us of our goals:\n",
    "\n",
    "- __Between the two institutions why are people leaving? How does this change depending on the length of service? And depending on age?__\n",
    "\n",
    "- Are employees who only worked for the institutes for a short period of time resigning due to some kind of dissatisfaction? What about employees who have been there longer?"
   ]
  },
  {
   "cell_type": "code",
   "execution_count": 110,
   "metadata": {},
   "outputs": [
    {
     "data": {
      "image/png": "[encoded data removed]",
      "text/plain": [
       "<Figure size 640x480 with 1 Axes>"
      ]
     },
     "metadata": {},
     "output_type": "display_data"
    },
    {
     "data": {
      "image/png": "[encoded data removed]",
      "text/plain": [
       "<Figure size 640x480 with 1 Axes>"
      ]
     },
     "metadata": {},
     "output_type": "display_data"
    },
    {
     "data": {
      "image/png": "[encoded data removed]",
      "text/plain": [
       "<Figure size 640x480 with 1 Axes>"
      ]
     },
     "metadata": {},
     "output_type": "display_data"
    }
   ],
   "source": [
    "combined_complete_reasons = combined[combined['reason_for_ceasing_employment'] != 'Not Stated']\n",
    "\n",
    "combined_pivot_reasons = combined_complete_reasons.pivot_table(columns='reason_for_ceasing_employment', values='id', aggfunc='count', sort=False)\n",
    "combined_pivot_reasons_melt = pd.melt(combined_pivot_reasons)\n",
    "combined_pivot_reasons_melt.set_index('reason_for_ceasing_employment', inplace=True)\n",
    "combined_pivot_reasons_melt_helper = combined_pivot_reasons_melt.reset_index()\n",
    "\n",
    "combined_pivot_reasons_melt_helper['%'] = (combined_pivot_reasons_melt_helper['value'] / combined_pivot_reasons_melt_helper['value'].sum()) * 100\n",
    "\n",
    "labels = [f'{l}, {s:0.1f}%' for l, s in zip(combined_pivot_reasons_melt_helper['reason_for_ceasing_employment'], combined_pivot_reasons_melt_helper['%'])]\n",
    "\n",
    "ax = combined_pivot_reasons_melt.plot(kind='pie',y='value',startangle=90, counterclock=False, labels=None)\n",
    "\n",
    "ax.legend(labels, title=\"Reasons for Ceasing Employment\", loc=\"center left\", bbox_to_anchor=(0.95, 0, 0, 1))\n",
    "\n",
    "ax.set_axis_off()\n",
    "\n",
    "plt.show()\n",
    "\n",
    "\n",
    "combined_pivot_reasons_by_service = combined_complete_reasons.pivot_table(index='length_of_service', columns='reason_for_ceasing_employment', values='id', aggfunc='count', sort=False)\n",
    "combined_pivot_reasons_by_service = combined_pivot_reasons_by_service.reindex(['Less than 1 year', '1-2','3-4', '5-6', '7-10', '11-20', 'More than 20 years'], axis=0)\n",
    "\n",
    "ax = combined_pivot_reasons_by_service.plot(kind='bar', stacked=True, colormap='viridis')\n",
    "plt.title('Reasons for Ceasing Employment by Length of Service')\n",
    "plt.xlabel('Length of Service (Years)')\n",
    "plt.ylabel('Number of Instances')\n",
    "plt.legend(title=\"Reason\", fontsize='small', fancybox=True)\n",
    "\n",
    "plt.show()\n",
    "\n",
    "combined_complete_age = combined_complete_reasons[combined_complete_reasons['age'] != 'Not Stated']\n",
    "combined_pivot_reasons_by_age = combined_complete_age.pivot_table(index='age', columns='reason_for_ceasing_employment', values='id', aggfunc='count', sort=False)\n",
    "combined_pivot_reasons_by_age = combined_pivot_reasons_by_age.reindex(['20 or younger', '21-25','26-30', '31-35', '36-40', '41-45', '46-50', '51-55', '56 or older'], axis=0)\n",
    "\n",
    "ax = combined_pivot_reasons_by_age.plot(kind='bar', stacked=True, colormap='viridis')\n",
    "plt.title('Reasons for Ceasing Employment by Age')\n",
    "plt.xlabel('Age (Years)')\n",
    "plt.ylabel('Number of Instances')\n",
    "plt.legend(title=\"Reason\", fontsize='small', fancybox=True)\n",
    "\n",
    "plt.show()"
   ]
  },
  {
   "cell_type": "markdown",
   "metadata": {},
   "source": [
    "To remind us of our goals:\n",
    "\n",
    "- Between the two intitutions what split of reasons for leaving are there? How does this change depending on the length of service? And depending on age?\n",
    "\n",
    "- __Are employees who only worked for the institutes for a short period of time resigning due to some kind of dissatisfaction? What about employees who have been there longer?__"
   ]
  },
  {
   "cell_type": "code",
   "execution_count": 66,
   "metadata": {},
   "outputs": [],
   "source": [
    "only_dete = combined[(combined['institution'] == 'dete') & (combined['reason_for_ceasing_employment'] == 'Resignation') & (combined['length_of_service']!= 'Not Stated') & (combined['age'] != 'Not Stated')]"
   ]
  },
  {
   "cell_type": "code",
   "execution_count": 67,
   "metadata": {},
   "outputs": [],
   "source": [
    "perc_of_people_resigning_with_job_dissatisfaction_service = only_dete.groupby('length_of_service')['job_dissatisfaction'].mean() * 100"
   ]
  },
  {
   "cell_type": "code",
   "execution_count": 112,
   "metadata": {},
   "outputs": [
    {
     "data": {
      "image/png": "[encoded data removed]",
      "text/plain": [
       "<Figure size 640x480 with 1 Axes>"
      ]
     },
     "metadata": {},
     "output_type": "display_data"
    }
   ],
   "source": [
    "perc_of_people_resigning_with_job_dissatisfaction_service = perc_of_people_resigning_with_job_dissatisfaction_service.reindex(['Less than 1 year', '1-2','3-4', '5-6', '7-10', '11-20', 'More than 20 years'], axis=0)\n",
    "\n",
    "ax = perc_of_people_resigning_with_job_dissatisfaction_service.plot(kind='bar', color='gray', alpha=0.3)\n",
    "plt.title('Percentage of Resignations with Dissatisfaction')\n",
    "plt.xlabel('Length of Service (Years)')\n",
    "plt.xticks(rotation=35)\n",
    "ax.grid(visible=False)\n",
    "\n",
    "for p in ax.patches:\n",
    "    ax.annotate(f'{p.get_height():.2f}%', (p.get_x() + p.get_width() / 2., p.get_height()-0.35),\n",
    "                ha='center', va='center', xytext=(0, 10), textcoords='offset points')\n",
    "\n",
    "ax.set_yticklabels([])\n",
    "plt.show()"
   ]
  }
 ],
 "metadata": {
  "kernelspec": {
   "display_name": "Python 3",
   "language": "python",
   "name": "python3"
  },
  "language_info": {
   "codemirror_mode": {
    "name": "ipython",
    "version": 3
   },
   "file_extension": ".py",
   "mimetype": "text/x-python",
   "name": "python",
   "nbconvert_exporter": "python",
   "pygments_lexer": "ipython3",
   "version": "3.11.7"
  }
 },
 "nbformat": 4,
 "nbformat_minor": 2
}
